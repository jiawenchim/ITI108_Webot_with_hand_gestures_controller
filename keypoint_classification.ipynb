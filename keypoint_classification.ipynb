{
 "cells": [
  {
   "cell_type": "code",
   "execution_count": 1,
   "metadata": {
    "id": "igMyGnjE9hEp"
   },
   "outputs": [
    {
     "name": "stdout",
     "output_type": "stream",
     "text": [
      "WARNING:tensorflow:From C:\\Users\\jwchi\\anaconda3\\lib\\site-packages\\keras\\src\\losses.py:2976: The name tf.losses.sparse_softmax_cross_entropy is deprecated. Please use tf.compat.v1.losses.sparse_softmax_cross_entropy instead.\n",
      "\n"
     ]
    }
   ],
   "source": [
    "import csv\n",
    "\n",
    "import numpy as np\n",
    "import tensorflow as tf\n",
    "from sklearn.model_selection import train_test_split\n",
    "\n",
    "RANDOM_SEED = 42"
   ]
  },
  {
   "cell_type": "markdown",
   "metadata": {
    "id": "t2HDvhIu9hEr"
   },
   "source": [
    "# Specify each path"
   ]
  },
  {
   "cell_type": "code",
   "execution_count": 2,
   "metadata": {
    "id": "9NvZP2Zn9hEy"
   },
   "outputs": [],
   "source": [
    "dataset = 'model/keypoint_classifier/keypoint.csv'\n",
    "model_save_path = 'model/keypoint_classifier/keypoint_classifier.hdf5'\n",
    "tflite_save_path = 'model/keypoint_classifier/keypoint_classifier.tflite'"
   ]
  },
  {
   "cell_type": "markdown",
   "metadata": {
    "id": "s5oMH7x19hEz"
   },
   "source": [
    "# Set number of classes"
   ]
  },
  {
   "cell_type": "code",
   "execution_count": 3,
   "metadata": {
    "id": "du4kodXL9hEz"
   },
   "outputs": [],
   "source": [
    "NUM_CLASSES = 4"
   ]
  },
  {
   "cell_type": "markdown",
   "metadata": {
    "id": "XjnL0uso9hEz"
   },
   "source": [
    "# Dataset reading"
   ]
  },
  {
   "cell_type": "code",
   "execution_count": 4,
   "metadata": {
    "id": "QT5ZqtEz9hE0"
   },
   "outputs": [],
   "source": [
    "X_dataset = np.loadtxt(dataset, delimiter=',', dtype='float32', usecols=list(range(1, (21 * 2) + 1)))"
   ]
  },
  {
   "cell_type": "code",
   "execution_count": 5,
   "metadata": {
    "id": "QmoKFsp49hE0"
   },
   "outputs": [],
   "source": [
    "y_dataset = np.loadtxt(dataset, delimiter=',', dtype='int32', usecols=(0))"
   ]
  },
  {
   "cell_type": "code",
   "execution_count": 6,
   "metadata": {
    "id": "xQU7JTZ_9hE0"
   },
   "outputs": [],
   "source": [
    "X_train, X_test, y_train, y_test = train_test_split(X_dataset, y_dataset, train_size=0.75, random_state=RANDOM_SEED)"
   ]
  },
  {
   "cell_type": "markdown",
   "metadata": {
    "id": "mxK_lETT9hE0"
   },
   "source": [
    "# Model building"
   ]
  },
  {
   "cell_type": "code",
   "execution_count": 7,
   "metadata": {
    "id": "vHBmUf1t9hE1"
   },
   "outputs": [
    {
     "name": "stdout",
     "output_type": "stream",
     "text": [
      "WARNING:tensorflow:From C:\\Users\\jwchi\\anaconda3\\lib\\site-packages\\keras\\src\\backend.py:1398: The name tf.executing_eagerly_outside_functions is deprecated. Please use tf.compat.v1.executing_eagerly_outside_functions instead.\n",
      "\n"
     ]
    }
   ],
   "source": [
    "model = tf.keras.models.Sequential([\n",
    "    tf.keras.layers.Input((21 * 2, )),\n",
    "    tf.keras.layers.Dropout(0.2),\n",
    "    tf.keras.layers.Dense(20, activation='relu'),\n",
    "    tf.keras.layers.Dropout(0.4),\n",
    "    tf.keras.layers.Dense(10, activation='relu'),\n",
    "    tf.keras.layers.Dense(NUM_CLASSES, activation='softmax')\n",
    "])"
   ]
  },
  {
   "cell_type": "code",
   "execution_count": 8,
   "metadata": {
    "colab": {
     "base_uri": "https://localhost:8080/"
    },
    "id": "ypqky9tc9hE1",
    "outputId": "5db082bb-30e3-4110-bf63-a1ee777ecd46"
   },
   "outputs": [
    {
     "name": "stdout",
     "output_type": "stream",
     "text": [
      "Model: \"sequential\"\n",
      "_________________________________________________________________\n",
      " Layer (type)                Output Shape              Param #   \n",
      "=================================================================\n",
      " dropout (Dropout)           (None, 42)                0         \n",
      "                                                                 \n",
      " dense (Dense)               (None, 20)                860       \n",
      "                                                                 \n",
      " dropout_1 (Dropout)         (None, 20)                0         \n",
      "                                                                 \n",
      " dense_1 (Dense)             (None, 10)                210       \n",
      "                                                                 \n",
      " dense_2 (Dense)             (None, 4)                 44        \n",
      "                                                                 \n",
      "=================================================================\n",
      "Total params: 1114 (4.35 KB)\n",
      "Trainable params: 1114 (4.35 KB)\n",
      "Non-trainable params: 0 (0.00 Byte)\n",
      "_________________________________________________________________\n"
     ]
    }
   ],
   "source": [
    "model.summary()  # tf.keras.utils.plot_model(model, show_shapes=True)"
   ]
  },
  {
   "cell_type": "code",
   "execution_count": 9,
   "metadata": {
    "id": "MbMjOflQ9hE1"
   },
   "outputs": [],
   "source": [
    "# Model checkpoint callback\n",
    "cp_callback = tf.keras.callbacks.ModelCheckpoint(\n",
    "    model_save_path, verbose=1, save_weights_only=False)\n",
    "# Callback for early stopping\n",
    "es_callback = tf.keras.callbacks.EarlyStopping(patience=20, verbose=1)"
   ]
  },
  {
   "cell_type": "code",
   "execution_count": 10,
   "metadata": {
    "id": "c3Dac0M_9hE2"
   },
   "outputs": [
    {
     "name": "stdout",
     "output_type": "stream",
     "text": [
      "WARNING:tensorflow:From C:\\Users\\jwchi\\anaconda3\\lib\\site-packages\\keras\\src\\optimizers\\__init__.py:309: The name tf.train.Optimizer is deprecated. Please use tf.compat.v1.train.Optimizer instead.\n",
      "\n"
     ]
    }
   ],
   "source": [
    "# Model compilation\n",
    "model.compile(\n",
    "    optimizer='adam',\n",
    "    loss='sparse_categorical_crossentropy',\n",
    "    metrics=['accuracy']\n",
    ")"
   ]
  },
  {
   "cell_type": "markdown",
   "metadata": {
    "id": "7XI0j1Iu9hE2"
   },
   "source": [
    "# Model training"
   ]
  },
  {
   "cell_type": "code",
   "execution_count": 11,
   "metadata": {
    "colab": {
     "base_uri": "https://localhost:8080/"
    },
    "id": "WirBl-JE9hE3",
    "outputId": "71b30ca2-8294-4d9d-8aa2-800d90d399de",
    "scrolled": true
   },
   "outputs": [
    {
     "name": "stdout",
     "output_type": "stream",
     "text": [
      "Epoch 1/1000\n",
      "WARNING:tensorflow:From C:\\Users\\jwchi\\anaconda3\\lib\\site-packages\\keras\\src\\utils\\tf_utils.py:492: The name tf.ragged.RaggedTensorValue is deprecated. Please use tf.compat.v1.ragged.RaggedTensorValue instead.\n",
      "\n",
      "WARNING:tensorflow:From C:\\Users\\jwchi\\anaconda3\\lib\\site-packages\\keras\\src\\engine\\base_layer_utils.py:384: The name tf.executing_eagerly_outside_functions is deprecated. Please use tf.compat.v1.executing_eagerly_outside_functions instead.\n",
      "\n",
      "20/29 [===================>..........] - ETA: 0s - loss: 1.6247 - accuracy: 0.1937 \n",
      "Epoch 1: saving model to model/keypoint_classifier\\keypoint_classifier.hdf5\n",
      "29/29 [==============================] - 2s 13ms/step - loss: 1.5830 - accuracy: 0.2089 - val_loss: 1.3834 - val_accuracy: 0.2732\n",
      "Epoch 2/1000\n",
      "24/29 [=======================>......] - ETA: 0s - loss: 1.3915 - accuracy: 0.3011\n",
      "Epoch 2: saving model to model/keypoint_classifier\\keypoint_classifier.hdf5\n",
      "29/29 [==============================] - 0s 5ms/step - loss: 1.3865 - accuracy: 0.3064 - val_loss: 1.3015 - val_accuracy: 0.3375\n"
     ]
    },
    {
     "name": "stderr",
     "output_type": "stream",
     "text": [
      "C:\\Users\\jwchi\\anaconda3\\lib\\site-packages\\keras\\src\\engine\\training.py:3103: UserWarning: You are saving your model as an HDF5 file via `model.save()`. This file format is considered legacy. We recommend using instead the native Keras format, e.g. `model.save('my_model.keras')`.\n",
      "  saving_api.save_model(\n"
     ]
    },
    {
     "name": "stdout",
     "output_type": "stream",
     "text": [
      "Epoch 3/1000\n",
      "24/29 [=======================>......] - ETA: 0s - loss: 1.3251 - accuracy: 0.3470\n",
      "Epoch 3: saving model to model/keypoint_classifier\\keypoint_classifier.hdf5\n",
      "29/29 [==============================] - 0s 5ms/step - loss: 1.3242 - accuracy: 0.3468 - val_loss: 1.2614 - val_accuracy: 0.3793\n",
      "Epoch 4/1000\n",
      "25/29 [========================>.....] - ETA: 0s - loss: 1.2814 - accuracy: 0.3534\n",
      "Epoch 4: saving model to model/keypoint_classifier\\keypoint_classifier.hdf5\n",
      "29/29 [==============================] - 0s 5ms/step - loss: 1.2785 - accuracy: 0.3549 - val_loss: 1.2370 - val_accuracy: 0.4002\n",
      "Epoch 5/1000\n",
      "25/29 [========================>.....] - ETA: 0s - loss: 1.2621 - accuracy: 0.3900\n",
      "Epoch 5: saving model to model/keypoint_classifier\\keypoint_classifier.hdf5\n",
      "29/29 [==============================] - 0s 5ms/step - loss: 1.2586 - accuracy: 0.3894 - val_loss: 1.2070 - val_accuracy: 0.4227\n",
      "Epoch 6/1000\n",
      "25/29 [========================>.....] - ETA: 0s - loss: 1.2228 - accuracy: 0.4178\n",
      "Epoch 6: saving model to model/keypoint_classifier\\keypoint_classifier.hdf5\n",
      "29/29 [==============================] - 0s 5ms/step - loss: 1.2221 - accuracy: 0.4212 - val_loss: 1.1772 - val_accuracy: 0.4787\n",
      "Epoch 7/1000\n",
      "24/29 [=======================>......] - ETA: 0s - loss: 1.1961 - accuracy: 0.4294\n",
      "Epoch 7: saving model to model/keypoint_classifier\\keypoint_classifier.hdf5\n",
      "29/29 [==============================] - 0s 5ms/step - loss: 1.1909 - accuracy: 0.4343 - val_loss: 1.1310 - val_accuracy: 0.4904\n",
      "Epoch 8/1000\n",
      "24/29 [=======================>......] - ETA: 0s - loss: 1.1590 - accuracy: 0.4613\n",
      "Epoch 8: saving model to model/keypoint_classifier\\keypoint_classifier.hdf5\n",
      "29/29 [==============================] - 0s 5ms/step - loss: 1.1537 - accuracy: 0.4671 - val_loss: 1.0776 - val_accuracy: 0.5297\n",
      "Epoch 9/1000\n",
      "24/29 [=======================>......] - ETA: 0s - loss: 1.1193 - accuracy: 0.4948\n",
      "Epoch 9: saving model to model/keypoint_classifier\\keypoint_classifier.hdf5\n",
      "29/29 [==============================] - 0s 5ms/step - loss: 1.1160 - accuracy: 0.4992 - val_loss: 1.0147 - val_accuracy: 0.5915\n",
      "Epoch 10/1000\n",
      "25/29 [========================>.....] - ETA: 0s - loss: 1.0607 - accuracy: 0.5475\n",
      "Epoch 10: saving model to model/keypoint_classifier\\keypoint_classifier.hdf5\n",
      "29/29 [==============================] - 0s 5ms/step - loss: 1.0599 - accuracy: 0.5401 - val_loss: 0.9394 - val_accuracy: 0.6558\n",
      "Epoch 11/1000\n",
      "25/29 [========================>.....] - ETA: 0s - loss: 1.0421 - accuracy: 0.5238\n",
      "Epoch 11: saving model to model/keypoint_classifier\\keypoint_classifier.hdf5\n",
      "29/29 [==============================] - 0s 5ms/step - loss: 1.0365 - accuracy: 0.5315 - val_loss: 0.8743 - val_accuracy: 0.7176\n",
      "Epoch 12/1000\n",
      "24/29 [=======================>......] - ETA: 0s - loss: 0.9752 - accuracy: 0.5719\n",
      "Epoch 12: saving model to model/keypoint_classifier\\keypoint_classifier.hdf5\n",
      "29/29 [==============================] - 0s 5ms/step - loss: 0.9715 - accuracy: 0.5727 - val_loss: 0.8100 - val_accuracy: 0.7310\n",
      "Epoch 13/1000\n",
      "24/29 [=======================>......] - ETA: 0s - loss: 0.9510 - accuracy: 0.5837\n",
      "Epoch 13: saving model to model/keypoint_classifier\\keypoint_classifier.hdf5\n",
      "29/29 [==============================] - 0s 5ms/step - loss: 0.9522 - accuracy: 0.5816 - val_loss: 0.7600 - val_accuracy: 0.7519\n",
      "Epoch 14/1000\n",
      "25/29 [========================>.....] - ETA: 0s - loss: 0.9091 - accuracy: 0.6044\n",
      "Epoch 14: saving model to model/keypoint_classifier\\keypoint_classifier.hdf5\n",
      "29/29 [==============================] - 0s 5ms/step - loss: 0.9043 - accuracy: 0.6070 - val_loss: 0.7096 - val_accuracy: 0.8120\n",
      "Epoch 15/1000\n",
      "25/29 [========================>.....] - ETA: 0s - loss: 0.8959 - accuracy: 0.6106\n",
      "Epoch 15: saving model to model/keypoint_classifier\\keypoint_classifier.hdf5\n",
      "29/29 [==============================] - 0s 5ms/step - loss: 0.8856 - accuracy: 0.6162 - val_loss: 0.6659 - val_accuracy: 0.8312\n",
      "Epoch 16/1000\n",
      "24/29 [=======================>......] - ETA: 0s - loss: 0.8526 - accuracy: 0.6364\n",
      "Epoch 16: saving model to model/keypoint_classifier\\keypoint_classifier.hdf5\n",
      "29/29 [==============================] - 0s 5ms/step - loss: 0.8571 - accuracy: 0.6312 - val_loss: 0.6308 - val_accuracy: 0.8262\n",
      "Epoch 17/1000\n",
      "23/29 [======================>.......] - ETA: 0s - loss: 0.8287 - accuracy: 0.6423\n",
      "Epoch 17: saving model to model/keypoint_classifier\\keypoint_classifier.hdf5\n",
      "29/29 [==============================] - 0s 5ms/step - loss: 0.8246 - accuracy: 0.6432 - val_loss: 0.5994 - val_accuracy: 0.8555\n",
      "Epoch 18/1000\n",
      "25/29 [========================>.....] - ETA: 0s - loss: 0.8039 - accuracy: 0.6513\n",
      "Epoch 18: saving model to model/keypoint_classifier\\keypoint_classifier.hdf5\n",
      "29/29 [==============================] - 0s 5ms/step - loss: 0.8055 - accuracy: 0.6496 - val_loss: 0.5670 - val_accuracy: 0.8814\n",
      "Epoch 19/1000\n",
      "23/29 [======================>.......] - ETA: 0s - loss: 0.7947 - accuracy: 0.6627\n",
      "Epoch 19: saving model to model/keypoint_classifier\\keypoint_classifier.hdf5\n",
      "29/29 [==============================] - 0s 5ms/step - loss: 0.8013 - accuracy: 0.6630 - val_loss: 0.5559 - val_accuracy: 0.8855\n",
      "Epoch 20/1000\n",
      "24/29 [=======================>......] - ETA: 0s - loss: 0.7750 - accuracy: 0.6706\n",
      "Epoch 20: saving model to model/keypoint_classifier\\keypoint_classifier.hdf5\n",
      "29/29 [==============================] - 0s 5ms/step - loss: 0.7743 - accuracy: 0.6749 - val_loss: 0.5337 - val_accuracy: 0.8855\n",
      "Epoch 21/1000\n",
      "24/29 [=======================>......] - ETA: 0s - loss: 0.7687 - accuracy: 0.6725\n",
      "Epoch 21: saving model to model/keypoint_classifier\\keypoint_classifier.hdf5\n",
      "29/29 [==============================] - 0s 5ms/step - loss: 0.7632 - accuracy: 0.6741 - val_loss: 0.5119 - val_accuracy: 0.8897\n",
      "Epoch 22/1000\n",
      "23/29 [======================>.......] - ETA: 0s - loss: 0.7582 - accuracy: 0.6800\n",
      "Epoch 22: saving model to model/keypoint_classifier\\keypoint_classifier.hdf5\n",
      "29/29 [==============================] - 0s 5ms/step - loss: 0.7553 - accuracy: 0.6777 - val_loss: 0.4897 - val_accuracy: 0.8989\n",
      "Epoch 23/1000\n",
      "24/29 [=======================>......] - ETA: 0s - loss: 0.7378 - accuracy: 0.6934\n",
      "Epoch 23: saving model to model/keypoint_classifier\\keypoint_classifier.hdf5\n",
      "29/29 [==============================] - 0s 5ms/step - loss: 0.7409 - accuracy: 0.6905 - val_loss: 0.4748 - val_accuracy: 0.9056\n",
      "Epoch 24/1000\n",
      "24/29 [=======================>......] - ETA: 0s - loss: 0.7202 - accuracy: 0.7054\n",
      "Epoch 24: saving model to model/keypoint_classifier\\keypoint_classifier.hdf5\n",
      "29/29 [==============================] - 0s 5ms/step - loss: 0.7194 - accuracy: 0.7067 - val_loss: 0.4537 - val_accuracy: 0.8997\n",
      "Epoch 25/1000\n",
      "24/29 [=======================>......] - ETA: 0s - loss: 0.7286 - accuracy: 0.6956\n",
      "Epoch 25: saving model to model/keypoint_classifier\\keypoint_classifier.hdf5\n",
      "29/29 [==============================] - 0s 5ms/step - loss: 0.7318 - accuracy: 0.6942 - val_loss: 0.4375 - val_accuracy: 0.9173\n",
      "Epoch 26/1000\n",
      "25/29 [========================>.....] - ETA: 0s - loss: 0.7023 - accuracy: 0.7134\n",
      "Epoch 26: saving model to model/keypoint_classifier\\keypoint_classifier.hdf5\n",
      "29/29 [==============================] - 0s 5ms/step - loss: 0.6968 - accuracy: 0.7153 - val_loss: 0.4256 - val_accuracy: 0.9273\n",
      "Epoch 27/1000\n",
      "24/29 [=======================>......] - ETA: 0s - loss: 0.6896 - accuracy: 0.7279\n",
      "Epoch 27: saving model to model/keypoint_classifier\\keypoint_classifier.hdf5\n",
      "29/29 [==============================] - 0s 5ms/step - loss: 0.6998 - accuracy: 0.7248 - val_loss: 0.4053 - val_accuracy: 0.9323\n",
      "Epoch 28/1000\n",
      "25/29 [========================>.....] - ETA: 0s - loss: 0.6866 - accuracy: 0.7159\n",
      "Epoch 28: saving model to model/keypoint_classifier\\keypoint_classifier.hdf5\n",
      "29/29 [==============================] - 0s 5ms/step - loss: 0.6849 - accuracy: 0.7181 - val_loss: 0.3966 - val_accuracy: 0.9398\n",
      "Epoch 29/1000\n",
      "24/29 [=======================>......] - ETA: 0s - loss: 0.6872 - accuracy: 0.7220\n",
      "Epoch 29: saving model to model/keypoint_classifier\\keypoint_classifier.hdf5\n",
      "29/29 [==============================] - 0s 5ms/step - loss: 0.6905 - accuracy: 0.7198 - val_loss: 0.3861 - val_accuracy: 0.9432\n",
      "Epoch 30/1000\n",
      "26/29 [=========================>....] - ETA: 0s - loss: 0.6560 - accuracy: 0.7428\n",
      "Epoch 30: saving model to model/keypoint_classifier\\keypoint_classifier.hdf5\n",
      "29/29 [==============================] - 0s 5ms/step - loss: 0.6565 - accuracy: 0.7432 - val_loss: 0.3687 - val_accuracy: 0.9415\n",
      "Epoch 31/1000\n",
      "26/29 [=========================>....] - ETA: 0s - loss: 0.6691 - accuracy: 0.7350\n",
      "Epoch 31: saving model to model/keypoint_classifier\\keypoint_classifier.hdf5\n",
      "29/29 [==============================] - 0s 5ms/step - loss: 0.6633 - accuracy: 0.7382 - val_loss: 0.3570 - val_accuracy: 0.9440\n",
      "Epoch 32/1000\n",
      "25/29 [========================>.....] - ETA: 0s - loss: 0.6325 - accuracy: 0.7553\n",
      "Epoch 32: saving model to model/keypoint_classifier\\keypoint_classifier.hdf5\n",
      "29/29 [==============================] - 0s 5ms/step - loss: 0.6380 - accuracy: 0.7524 - val_loss: 0.3439 - val_accuracy: 0.9465\n",
      "Epoch 33/1000\n",
      "25/29 [========================>.....] - ETA: 0s - loss: 0.6476 - accuracy: 0.7287\n",
      "Epoch 33: saving model to model/keypoint_classifier\\keypoint_classifier.hdf5\n",
      "29/29 [==============================] - 0s 5ms/step - loss: 0.6454 - accuracy: 0.7334 - val_loss: 0.3352 - val_accuracy: 0.9490\n",
      "Epoch 34/1000\n",
      "24/29 [=======================>......] - ETA: 0s - loss: 0.6351 - accuracy: 0.7438\n",
      "Epoch 34: saving model to model/keypoint_classifier\\keypoint_classifier.hdf5\n",
      "29/29 [==============================] - 0s 5ms/step - loss: 0.6237 - accuracy: 0.7485 - val_loss: 0.3252 - val_accuracy: 0.9532\n",
      "Epoch 35/1000\n",
      "24/29 [=======================>......] - ETA: 0s - loss: 0.6391 - accuracy: 0.7406\n",
      "Epoch 35: saving model to model/keypoint_classifier\\keypoint_classifier.hdf5\n",
      "29/29 [==============================] - 0s 5ms/step - loss: 0.6294 - accuracy: 0.7460 - val_loss: 0.3151 - val_accuracy: 0.9549\n",
      "Epoch 36/1000\n",
      "23/29 [======================>.......] - ETA: 0s - loss: 0.6139 - accuracy: 0.7554\n",
      "Epoch 36: saving model to model/keypoint_classifier\\keypoint_classifier.hdf5\n",
      "29/29 [==============================] - 0s 5ms/step - loss: 0.6123 - accuracy: 0.7571 - val_loss: 0.3096 - val_accuracy: 0.9566\n",
      "Epoch 37/1000\n",
      "25/29 [========================>.....] - ETA: 0s - loss: 0.6254 - accuracy: 0.7644\n",
      "Epoch 37: saving model to model/keypoint_classifier\\keypoint_classifier.hdf5\n",
      "29/29 [==============================] - 0s 5ms/step - loss: 0.6224 - accuracy: 0.7630 - val_loss: 0.3032 - val_accuracy: 0.9566\n",
      "Epoch 38/1000\n",
      "25/29 [========================>.....] - ETA: 0s - loss: 0.6021 - accuracy: 0.7653\n",
      "Epoch 38: saving model to model/keypoint_classifier\\keypoint_classifier.hdf5\n",
      "29/29 [==============================] - 0s 5ms/step - loss: 0.5967 - accuracy: 0.7688 - val_loss: 0.2900 - val_accuracy: 0.9582\n",
      "Epoch 39/1000\n",
      "25/29 [========================>.....] - ETA: 0s - loss: 0.6025 - accuracy: 0.7697\n",
      "Epoch 39: saving model to model/keypoint_classifier\\keypoint_classifier.hdf5\n",
      "29/29 [==============================] - 0s 5ms/step - loss: 0.6030 - accuracy: 0.7702 - val_loss: 0.2817 - val_accuracy: 0.9574\n",
      "Epoch 40/1000\n",
      "24/29 [=======================>......] - ETA: 0s - loss: 0.6095 - accuracy: 0.7555\n",
      "Epoch 40: saving model to model/keypoint_classifier\\keypoint_classifier.hdf5\n",
      "29/29 [==============================] - 0s 5ms/step - loss: 0.6122 - accuracy: 0.7574 - val_loss: 0.2860 - val_accuracy: 0.9574\n",
      "Epoch 41/1000\n",
      "23/29 [======================>.......] - ETA: 0s - loss: 0.5991 - accuracy: 0.7653\n",
      "Epoch 41: saving model to model/keypoint_classifier\\keypoint_classifier.hdf5\n",
      "29/29 [==============================] - 0s 5ms/step - loss: 0.5954 - accuracy: 0.7680 - val_loss: 0.2838 - val_accuracy: 0.9515\n",
      "Epoch 42/1000\n",
      "23/29 [======================>.......] - ETA: 0s - loss: 0.6043 - accuracy: 0.7653\n",
      "Epoch 42: saving model to model/keypoint_classifier\\keypoint_classifier.hdf5\n",
      "29/29 [==============================] - 0s 5ms/step - loss: 0.6009 - accuracy: 0.7649 - val_loss: 0.2780 - val_accuracy: 0.9574\n",
      "Epoch 43/1000\n",
      "24/29 [=======================>......] - ETA: 0s - loss: 0.6097 - accuracy: 0.7520\n",
      "Epoch 43: saving model to model/keypoint_classifier\\keypoint_classifier.hdf5\n",
      "29/29 [==============================] - 0s 5ms/step - loss: 0.6067 - accuracy: 0.7529 - val_loss: 0.2799 - val_accuracy: 0.9515\n",
      "Epoch 44/1000\n",
      "24/29 [=======================>......] - ETA: 0s - loss: 0.5680 - accuracy: 0.7806\n",
      "Epoch 44: saving model to model/keypoint_classifier\\keypoint_classifier.hdf5\n",
      "29/29 [==============================] - 0s 5ms/step - loss: 0.5721 - accuracy: 0.7783 - val_loss: 0.2697 - val_accuracy: 0.9549\n",
      "Epoch 45/1000\n",
      "24/29 [=======================>......] - ETA: 0s - loss: 0.5727 - accuracy: 0.7799\n",
      "Epoch 45: saving model to model/keypoint_classifier\\keypoint_classifier.hdf5\n",
      "29/29 [==============================] - 0s 5ms/step - loss: 0.5643 - accuracy: 0.7830 - val_loss: 0.2720 - val_accuracy: 0.9499\n",
      "Epoch 46/1000\n",
      "24/29 [=======================>......] - ETA: 0s - loss: 0.5770 - accuracy: 0.7764\n",
      "Epoch 46: saving model to model/keypoint_classifier\\keypoint_classifier.hdf5\n",
      "29/29 [==============================] - 0s 5ms/step - loss: 0.5837 - accuracy: 0.7708 - val_loss: 0.2664 - val_accuracy: 0.9499\n",
      "Epoch 47/1000\n",
      "24/29 [=======================>......] - ETA: 0s - loss: 0.5821 - accuracy: 0.7702\n",
      "Epoch 47: saving model to model/keypoint_classifier\\keypoint_classifier.hdf5\n",
      "29/29 [==============================] - 0s 5ms/step - loss: 0.5772 - accuracy: 0.7730 - val_loss: 0.2627 - val_accuracy: 0.9532\n",
      "Epoch 48/1000\n",
      "24/29 [=======================>......] - ETA: 0s - loss: 0.5872 - accuracy: 0.7686\n",
      "Epoch 48: saving model to model/keypoint_classifier\\keypoint_classifier.hdf5\n",
      "29/29 [==============================] - 0s 5ms/step - loss: 0.5893 - accuracy: 0.7677 - val_loss: 0.2530 - val_accuracy: 0.9599\n",
      "Epoch 49/1000\n",
      "18/29 [=================>............] - ETA: 0s - loss: 0.5709 - accuracy: 0.7782\n",
      "Epoch 49: saving model to model/keypoint_classifier\\keypoint_classifier.hdf5\n",
      "29/29 [==============================] - 0s 5ms/step - loss: 0.5718 - accuracy: 0.7763 - val_loss: 0.2491 - val_accuracy: 0.9557\n",
      "Epoch 50/1000\n",
      "21/29 [====================>.........] - ETA: 0s - loss: 0.5795 - accuracy: 0.7697\n",
      "Epoch 50: saving model to model/keypoint_classifier\\keypoint_classifier.hdf5\n",
      "29/29 [==============================] - 0s 5ms/step - loss: 0.5729 - accuracy: 0.7735 - val_loss: 0.2429 - val_accuracy: 0.9624\n",
      "Epoch 51/1000\n",
      "25/29 [========================>.....] - ETA: 0s - loss: 0.5479 - accuracy: 0.7859\n",
      "Epoch 51: saving model to model/keypoint_classifier\\keypoint_classifier.hdf5\n",
      "29/29 [==============================] - 0s 5ms/step - loss: 0.5544 - accuracy: 0.7838 - val_loss: 0.2462 - val_accuracy: 0.9524\n",
      "Epoch 52/1000\n",
      "24/29 [=======================>......] - ETA: 0s - loss: 0.5663 - accuracy: 0.7793\n",
      "Epoch 52: saving model to model/keypoint_classifier\\keypoint_classifier.hdf5\n",
      "29/29 [==============================] - 0s 5ms/step - loss: 0.5755 - accuracy: 0.7747 - val_loss: 0.2524 - val_accuracy: 0.9515\n",
      "Epoch 53/1000\n",
      "24/29 [=======================>......] - ETA: 0s - loss: 0.5458 - accuracy: 0.7949\n",
      "Epoch 53: saving model to model/keypoint_classifier\\keypoint_classifier.hdf5\n",
      "29/29 [==============================] - 0s 5ms/step - loss: 0.5421 - accuracy: 0.7953 - val_loss: 0.2429 - val_accuracy: 0.9632\n",
      "Epoch 54/1000\n",
      "23/29 [======================>.......] - ETA: 0s - loss: 0.5600 - accuracy: 0.7833\n",
      "Epoch 54: saving model to model/keypoint_classifier\\keypoint_classifier.hdf5\n",
      "29/29 [==============================] - 0s 5ms/step - loss: 0.5476 - accuracy: 0.7877 - val_loss: 0.2357 - val_accuracy: 0.9591\n",
      "Epoch 55/1000\n",
      "24/29 [=======================>......] - ETA: 0s - loss: 0.5574 - accuracy: 0.7803\n",
      "Epoch 55: saving model to model/keypoint_classifier\\keypoint_classifier.hdf5\n",
      "29/29 [==============================] - 0s 5ms/step - loss: 0.5475 - accuracy: 0.7841 - val_loss: 0.2343 - val_accuracy: 0.9557\n",
      "Epoch 56/1000\n",
      "24/29 [=======================>......] - ETA: 0s - loss: 0.5354 - accuracy: 0.7910\n",
      "Epoch 56: saving model to model/keypoint_classifier\\keypoint_classifier.hdf5\n",
      "29/29 [==============================] - 0s 5ms/step - loss: 0.5448 - accuracy: 0.7847 - val_loss: 0.2286 - val_accuracy: 0.9582\n",
      "Epoch 57/1000\n",
      "23/29 [======================>.......] - ETA: 0s - loss: 0.5570 - accuracy: 0.7874\n",
      "Epoch 57: saving model to model/keypoint_classifier\\keypoint_classifier.hdf5\n",
      "29/29 [==============================] - 0s 5ms/step - loss: 0.5626 - accuracy: 0.7830 - val_loss: 0.2290 - val_accuracy: 0.9607\n",
      "Epoch 58/1000\n",
      "23/29 [======================>.......] - ETA: 0s - loss: 0.5404 - accuracy: 0.8003\n",
      "Epoch 58: saving model to model/keypoint_classifier\\keypoint_classifier.hdf5\n",
      "29/29 [==============================] - 0s 5ms/step - loss: 0.5412 - accuracy: 0.8008 - val_loss: 0.2276 - val_accuracy: 0.9566\n",
      "Epoch 59/1000\n",
      "23/29 [======================>.......] - ETA: 0s - loss: 0.5424 - accuracy: 0.7965\n",
      "Epoch 59: saving model to model/keypoint_classifier\\keypoint_classifier.hdf5\n",
      "29/29 [==============================] - 0s 5ms/step - loss: 0.5456 - accuracy: 0.7936 - val_loss: 0.2272 - val_accuracy: 0.9616\n",
      "Epoch 60/1000\n",
      "24/29 [=======================>......] - ETA: 0s - loss: 0.5362 - accuracy: 0.7917\n",
      "Epoch 60: saving model to model/keypoint_classifier\\keypoint_classifier.hdf5\n",
      "29/29 [==============================] - 0s 5ms/step - loss: 0.5422 - accuracy: 0.7897 - val_loss: 0.2271 - val_accuracy: 0.9607\n",
      "Epoch 61/1000\n",
      "23/29 [======================>.......] - ETA: 0s - loss: 0.5454 - accuracy: 0.7925\n",
      "Epoch 61: saving model to model/keypoint_classifier\\keypoint_classifier.hdf5\n",
      "29/29 [==============================] - 0s 5ms/step - loss: 0.5547 - accuracy: 0.7866 - val_loss: 0.2262 - val_accuracy: 0.9582\n",
      "Epoch 62/1000\n",
      "24/29 [=======================>......] - ETA: 0s - loss: 0.5350 - accuracy: 0.7995\n",
      "Epoch 62: saving model to model/keypoint_classifier\\keypoint_classifier.hdf5\n",
      "29/29 [==============================] - 0s 5ms/step - loss: 0.5387 - accuracy: 0.7969 - val_loss: 0.2238 - val_accuracy: 0.9657\n",
      "Epoch 63/1000\n",
      "23/29 [======================>.......] - ETA: 0s - loss: 0.5533 - accuracy: 0.7880\n",
      "Epoch 63: saving model to model/keypoint_classifier\\keypoint_classifier.hdf5\n",
      "29/29 [==============================] - 0s 5ms/step - loss: 0.5418 - accuracy: 0.7916 - val_loss: 0.2225 - val_accuracy: 0.9649\n",
      "Epoch 64/1000\n",
      "23/29 [======================>.......] - ETA: 0s - loss: 0.5369 - accuracy: 0.7965\n",
      "Epoch 64: saving model to model/keypoint_classifier\\keypoint_classifier.hdf5\n",
      "29/29 [==============================] - 0s 5ms/step - loss: 0.5361 - accuracy: 0.7958 - val_loss: 0.2199 - val_accuracy: 0.9591\n",
      "Epoch 65/1000\n",
      "22/29 [=====================>........] - ETA: 0s - loss: 0.5184 - accuracy: 0.8086\n",
      "Epoch 65: saving model to model/keypoint_classifier\\keypoint_classifier.hdf5\n",
      "29/29 [==============================] - 0s 5ms/step - loss: 0.5281 - accuracy: 0.8045 - val_loss: 0.2200 - val_accuracy: 0.9549\n",
      "Epoch 66/1000\n",
      "25/29 [========================>.....] - ETA: 0s - loss: 0.5276 - accuracy: 0.7947\n",
      "Epoch 66: saving model to model/keypoint_classifier\\keypoint_classifier.hdf5\n",
      "29/29 [==============================] - 0s 5ms/step - loss: 0.5307 - accuracy: 0.7922 - val_loss: 0.2146 - val_accuracy: 0.9657\n",
      "Epoch 67/1000\n",
      "23/29 [======================>.......] - ETA: 0s - loss: 0.5361 - accuracy: 0.7948\n",
      "Epoch 67: saving model to model/keypoint_classifier\\keypoint_classifier.hdf5\n",
      "29/29 [==============================] - 0s 5ms/step - loss: 0.5370 - accuracy: 0.7922 - val_loss: 0.2162 - val_accuracy: 0.9649\n",
      "Epoch 68/1000\n",
      "24/29 [=======================>......] - ETA: 0s - loss: 0.5147 - accuracy: 0.8050\n",
      "Epoch 68: saving model to model/keypoint_classifier\\keypoint_classifier.hdf5\n",
      "29/29 [==============================] - 0s 5ms/step - loss: 0.5292 - accuracy: 0.8003 - val_loss: 0.2141 - val_accuracy: 0.9657\n",
      "Epoch 69/1000\n",
      "25/29 [========================>.....] - ETA: 0s - loss: 0.5275 - accuracy: 0.7912\n",
      "Epoch 69: saving model to model/keypoint_classifier\\keypoint_classifier.hdf5\n",
      "29/29 [==============================] - 0s 5ms/step - loss: 0.5323 - accuracy: 0.7928 - val_loss: 0.2157 - val_accuracy: 0.9616\n",
      "Epoch 70/1000\n",
      "24/29 [=======================>......] - ETA: 0s - loss: 0.5026 - accuracy: 0.8060\n",
      "Epoch 70: saving model to model/keypoint_classifier\\keypoint_classifier.hdf5\n",
      "29/29 [==============================] - 0s 5ms/step - loss: 0.5089 - accuracy: 0.8050 - val_loss: 0.2112 - val_accuracy: 0.9599\n",
      "Epoch 71/1000\n",
      "24/29 [=======================>......] - ETA: 0s - loss: 0.5350 - accuracy: 0.7969\n",
      "Epoch 71: saving model to model/keypoint_classifier\\keypoint_classifier.hdf5\n",
      "29/29 [==============================] - 0s 6ms/step - loss: 0.5297 - accuracy: 0.7969 - val_loss: 0.2115 - val_accuracy: 0.9616\n",
      "Epoch 72/1000\n",
      "23/29 [======================>.......] - ETA: 0s - loss: 0.5229 - accuracy: 0.7993\n",
      "Epoch 72: saving model to model/keypoint_classifier\\keypoint_classifier.hdf5\n",
      "29/29 [==============================] - 0s 5ms/step - loss: 0.5214 - accuracy: 0.8000 - val_loss: 0.2041 - val_accuracy: 0.9657\n",
      "Epoch 73/1000\n",
      "24/29 [=======================>......] - ETA: 0s - loss: 0.5039 - accuracy: 0.8083\n",
      "Epoch 73: saving model to model/keypoint_classifier\\keypoint_classifier.hdf5\n",
      "29/29 [==============================] - 0s 5ms/step - loss: 0.5063 - accuracy: 0.8064 - val_loss: 0.2058 - val_accuracy: 0.9649\n",
      "Epoch 74/1000\n",
      "23/29 [======================>.......] - ETA: 0s - loss: 0.5086 - accuracy: 0.7993\n",
      "Epoch 74: saving model to model/keypoint_classifier\\keypoint_classifier.hdf5\n",
      "29/29 [==============================] - 0s 5ms/step - loss: 0.5025 - accuracy: 0.8000 - val_loss: 0.2037 - val_accuracy: 0.9641\n",
      "Epoch 75/1000\n",
      "24/29 [=======================>......] - ETA: 0s - loss: 0.5236 - accuracy: 0.8018\n",
      "Epoch 75: saving model to model/keypoint_classifier\\keypoint_classifier.hdf5\n",
      "29/29 [==============================] - 0s 5ms/step - loss: 0.5283 - accuracy: 0.7978 - val_loss: 0.2053 - val_accuracy: 0.9708\n",
      "Epoch 76/1000\n",
      "22/29 [=====================>........] - ETA: 0s - loss: 0.5169 - accuracy: 0.8033\n",
      "Epoch 76: saving model to model/keypoint_classifier\\keypoint_classifier.hdf5\n",
      "29/29 [==============================] - 0s 5ms/step - loss: 0.5121 - accuracy: 0.8064 - val_loss: 0.2033 - val_accuracy: 0.9683\n",
      "Epoch 77/1000\n",
      "23/29 [======================>.......] - ETA: 0s - loss: 0.5237 - accuracy: 0.8047\n",
      "Epoch 77: saving model to model/keypoint_classifier\\keypoint_classifier.hdf5\n",
      "29/29 [==============================] - 0s 5ms/step - loss: 0.5185 - accuracy: 0.8078 - val_loss: 0.2040 - val_accuracy: 0.9683\n",
      "Epoch 78/1000\n",
      "22/29 [=====================>........] - ETA: 0s - loss: 0.5120 - accuracy: 0.8097\n",
      "Epoch 78: saving model to model/keypoint_classifier\\keypoint_classifier.hdf5\n",
      "29/29 [==============================] - 0s 5ms/step - loss: 0.5169 - accuracy: 0.8081 - val_loss: 0.2019 - val_accuracy: 0.9708\n",
      "Epoch 79/1000\n",
      "22/29 [=====================>........] - ETA: 0s - loss: 0.5096 - accuracy: 0.8097\n",
      "Epoch 79: saving model to model/keypoint_classifier\\keypoint_classifier.hdf5\n",
      "29/29 [==============================] - 0s 5ms/step - loss: 0.5042 - accuracy: 0.8095 - val_loss: 0.1989 - val_accuracy: 0.9699\n",
      "Epoch 80/1000\n",
      "24/29 [=======================>......] - ETA: 0s - loss: 0.5090 - accuracy: 0.8008\n",
      "Epoch 80: saving model to model/keypoint_classifier\\keypoint_classifier.hdf5\n",
      "29/29 [==============================] - 0s 5ms/step - loss: 0.5071 - accuracy: 0.8014 - val_loss: 0.1975 - val_accuracy: 0.9716\n",
      "Epoch 81/1000\n",
      "24/29 [=======================>......] - ETA: 0s - loss: 0.5086 - accuracy: 0.8076\n",
      "Epoch 81: saving model to model/keypoint_classifier\\keypoint_classifier.hdf5\n",
      "29/29 [==============================] - 0s 5ms/step - loss: 0.5128 - accuracy: 0.8072 - val_loss: 0.1985 - val_accuracy: 0.9691\n",
      "Epoch 82/1000\n",
      "24/29 [=======================>......] - ETA: 0s - loss: 0.5307 - accuracy: 0.7965\n",
      "Epoch 82: saving model to model/keypoint_classifier\\keypoint_classifier.hdf5\n",
      "29/29 [==============================] - 0s 5ms/step - loss: 0.5222 - accuracy: 0.8025 - val_loss: 0.1969 - val_accuracy: 0.9708\n",
      "Epoch 83/1000\n",
      "28/29 [===========================>..] - ETA: 0s - loss: 0.5099 - accuracy: 0.8158\n",
      "Epoch 83: saving model to model/keypoint_classifier\\keypoint_classifier.hdf5\n",
      "29/29 [==============================] - 0s 5ms/step - loss: 0.5093 - accuracy: 0.8162 - val_loss: 0.1992 - val_accuracy: 0.9716\n",
      "Epoch 84/1000\n",
      "22/29 [=====================>........] - ETA: 0s - loss: 0.5321 - accuracy: 0.7937\n",
      "Epoch 84: saving model to model/keypoint_classifier\\keypoint_classifier.hdf5\n",
      "29/29 [==============================] - 0s 5ms/step - loss: 0.5279 - accuracy: 0.7981 - val_loss: 0.1977 - val_accuracy: 0.9741\n",
      "Epoch 85/1000\n",
      "20/29 [===================>..........] - ETA: 0s - loss: 0.4914 - accuracy: 0.8078\n",
      "Epoch 85: saving model to model/keypoint_classifier\\keypoint_classifier.hdf5\n",
      "29/29 [==============================] - 0s 5ms/step - loss: 0.5113 - accuracy: 0.8039 - val_loss: 0.1946 - val_accuracy: 0.9724\n",
      "Epoch 86/1000\n",
      "27/29 [==========================>...] - ETA: 0s - loss: 0.5113 - accuracy: 0.8030\n",
      "Epoch 86: saving model to model/keypoint_classifier\\keypoint_classifier.hdf5\n",
      "29/29 [==============================] - 0s 5ms/step - loss: 0.5110 - accuracy: 0.8036 - val_loss: 0.1968 - val_accuracy: 0.9683\n",
      "Epoch 87/1000\n",
      "23/29 [======================>.......] - ETA: 0s - loss: 0.5005 - accuracy: 0.8098\n",
      "Epoch 87: saving model to model/keypoint_classifier\\keypoint_classifier.hdf5\n",
      "29/29 [==============================] - 0s 5ms/step - loss: 0.4999 - accuracy: 0.8095 - val_loss: 0.1953 - val_accuracy: 0.9683\n",
      "Epoch 88/1000\n",
      "23/29 [======================>.......] - ETA: 0s - loss: 0.5019 - accuracy: 0.8179\n",
      "Epoch 88: saving model to model/keypoint_classifier\\keypoint_classifier.hdf5\n",
      "29/29 [==============================] - 0s 5ms/step - loss: 0.4974 - accuracy: 0.8203 - val_loss: 0.1940 - val_accuracy: 0.9674\n",
      "Epoch 89/1000\n",
      "23/29 [======================>.......] - ETA: 0s - loss: 0.5012 - accuracy: 0.8135\n",
      "Epoch 89: saving model to model/keypoint_classifier\\keypoint_classifier.hdf5\n",
      "29/29 [==============================] - 0s 6ms/step - loss: 0.4938 - accuracy: 0.8150 - val_loss: 0.1909 - val_accuracy: 0.9699\n",
      "Epoch 90/1000\n",
      "28/29 [===========================>..] - ETA: 0s - loss: 0.4994 - accuracy: 0.8097\n",
      "Epoch 90: saving model to model/keypoint_classifier\\keypoint_classifier.hdf5\n",
      "29/29 [==============================] - 0s 5ms/step - loss: 0.4994 - accuracy: 0.8095 - val_loss: 0.1855 - val_accuracy: 0.9766\n",
      "Epoch 91/1000\n",
      "23/29 [======================>.......] - ETA: 0s - loss: 0.4649 - accuracy: 0.8244\n",
      "Epoch 91: saving model to model/keypoint_classifier\\keypoint_classifier.hdf5\n",
      "29/29 [==============================] - 0s 5ms/step - loss: 0.4829 - accuracy: 0.8145 - val_loss: 0.1847 - val_accuracy: 0.9741\n",
      "Epoch 92/1000\n",
      "23/29 [======================>.......] - ETA: 0s - loss: 0.5019 - accuracy: 0.8122\n",
      "Epoch 92: saving model to model/keypoint_classifier\\keypoint_classifier.hdf5\n",
      "29/29 [==============================] - 0s 6ms/step - loss: 0.5123 - accuracy: 0.8070 - val_loss: 0.1896 - val_accuracy: 0.9741\n",
      "Epoch 93/1000\n",
      "19/29 [==================>...........] - ETA: 0s - loss: 0.4823 - accuracy: 0.8203\n",
      "Epoch 93: saving model to model/keypoint_classifier\\keypoint_classifier.hdf5\n",
      "29/29 [==============================] - 0s 5ms/step - loss: 0.4946 - accuracy: 0.8114 - val_loss: 0.1955 - val_accuracy: 0.9683\n",
      "Epoch 94/1000\n",
      "22/29 [=====================>........] - ETA: 0s - loss: 0.5031 - accuracy: 0.8068\n",
      "Epoch 94: saving model to model/keypoint_classifier\\keypoint_classifier.hdf5\n",
      "29/29 [==============================] - 0s 6ms/step - loss: 0.5086 - accuracy: 0.8033 - val_loss: 0.1938 - val_accuracy: 0.9708\n",
      "Epoch 95/1000\n",
      "26/29 [=========================>....] - ETA: 0s - loss: 0.4919 - accuracy: 0.8143\n",
      "Epoch 95: saving model to model/keypoint_classifier\\keypoint_classifier.hdf5\n",
      "29/29 [==============================] - 0s 5ms/step - loss: 0.4915 - accuracy: 0.8145 - val_loss: 0.1886 - val_accuracy: 0.9708\n",
      "Epoch 96/1000\n",
      "26/29 [=========================>....] - ETA: 0s - loss: 0.4961 - accuracy: 0.8125\n",
      "Epoch 96: saving model to model/keypoint_classifier\\keypoint_classifier.hdf5\n",
      "29/29 [==============================] - 0s 5ms/step - loss: 0.5017 - accuracy: 0.8120 - val_loss: 0.1887 - val_accuracy: 0.9716\n",
      "Epoch 97/1000\n",
      "22/29 [=====================>........] - ETA: 0s - loss: 0.4755 - accuracy: 0.8249\n",
      "Epoch 97: saving model to model/keypoint_classifier\\keypoint_classifier.hdf5\n",
      "29/29 [==============================] - 0s 5ms/step - loss: 0.4855 - accuracy: 0.8214 - val_loss: 0.1856 - val_accuracy: 0.9716\n",
      "Epoch 98/1000\n",
      "23/29 [======================>.......] - ETA: 0s - loss: 0.4896 - accuracy: 0.8081\n",
      "Epoch 98: saving model to model/keypoint_classifier\\keypoint_classifier.hdf5\n",
      "29/29 [==============================] - 0s 5ms/step - loss: 0.4964 - accuracy: 0.8086 - val_loss: 0.1795 - val_accuracy: 0.9799\n",
      "Epoch 99/1000\n",
      "21/29 [====================>.........] - ETA: 0s - loss: 0.4827 - accuracy: 0.8225\n",
      "Epoch 99: saving model to model/keypoint_classifier\\keypoint_classifier.hdf5\n",
      "29/29 [==============================] - 0s 5ms/step - loss: 0.4893 - accuracy: 0.8170 - val_loss: 0.1812 - val_accuracy: 0.9733\n",
      "Epoch 100/1000\n",
      "21/29 [====================>.........] - ETA: 0s - loss: 0.4922 - accuracy: 0.8125\n",
      "Epoch 100: saving model to model/keypoint_classifier\\keypoint_classifier.hdf5\n",
      "29/29 [==============================] - 0s 5ms/step - loss: 0.4861 - accuracy: 0.8170 - val_loss: 0.1843 - val_accuracy: 0.9741\n",
      "Epoch 101/1000\n",
      "21/29 [====================>.........] - ETA: 0s - loss: 0.4928 - accuracy: 0.8188\n",
      "Epoch 101: saving model to model/keypoint_classifier\\keypoint_classifier.hdf5\n",
      "29/29 [==============================] - 0s 5ms/step - loss: 0.4896 - accuracy: 0.8201 - val_loss: 0.1832 - val_accuracy: 0.9716\n",
      "Epoch 102/1000\n",
      "21/29 [====================>.........] - ETA: 0s - loss: 0.4877 - accuracy: 0.8162\n",
      "Epoch 102: saving model to model/keypoint_classifier\\keypoint_classifier.hdf5\n",
      "29/29 [==============================] - 0s 6ms/step - loss: 0.4828 - accuracy: 0.8187 - val_loss: 0.1849 - val_accuracy: 0.9716\n",
      "Epoch 103/1000\n",
      "22/29 [=====================>........] - ETA: 0s - loss: 0.4752 - accuracy: 0.8168\n",
      "Epoch 103: saving model to model/keypoint_classifier\\keypoint_classifier.hdf5\n",
      "29/29 [==============================] - 0s 5ms/step - loss: 0.4707 - accuracy: 0.8214 - val_loss: 0.1798 - val_accuracy: 0.9774\n",
      "Epoch 104/1000\n",
      "22/29 [=====================>........] - ETA: 0s - loss: 0.4924 - accuracy: 0.8118\n",
      "Epoch 104: saving model to model/keypoint_classifier\\keypoint_classifier.hdf5\n",
      "29/29 [==============================] - 0s 6ms/step - loss: 0.4842 - accuracy: 0.8159 - val_loss: 0.1817 - val_accuracy: 0.9766\n",
      "Epoch 105/1000\n",
      "20/29 [===================>..........] - ETA: 0s - loss: 0.4989 - accuracy: 0.8152\n",
      "Epoch 105: saving model to model/keypoint_classifier\\keypoint_classifier.hdf5\n",
      "29/29 [==============================] - 0s 6ms/step - loss: 0.4882 - accuracy: 0.8156 - val_loss: 0.1887 - val_accuracy: 0.9724\n",
      "Epoch 106/1000\n",
      "21/29 [====================>.........] - ETA: 0s - loss: 0.4846 - accuracy: 0.8095\n",
      "Epoch 106: saving model to model/keypoint_classifier\\keypoint_classifier.hdf5\n",
      "29/29 [==============================] - 0s 6ms/step - loss: 0.4704 - accuracy: 0.8150 - val_loss: 0.1830 - val_accuracy: 0.9808\n",
      "Epoch 107/1000\n",
      "21/29 [====================>.........] - ETA: 0s - loss: 0.4903 - accuracy: 0.8110\n",
      "Epoch 107: saving model to model/keypoint_classifier\\keypoint_classifier.hdf5\n",
      "29/29 [==============================] - 0s 5ms/step - loss: 0.4844 - accuracy: 0.8167 - val_loss: 0.1813 - val_accuracy: 0.9808\n",
      "Epoch 108/1000\n",
      "22/29 [=====================>........] - ETA: 0s - loss: 0.4670 - accuracy: 0.8299\n",
      "Epoch 108: saving model to model/keypoint_classifier\\keypoint_classifier.hdf5\n",
      "29/29 [==============================] - 0s 5ms/step - loss: 0.4708 - accuracy: 0.8281 - val_loss: 0.1811 - val_accuracy: 0.9749\n",
      "Epoch 109/1000\n",
      "22/29 [=====================>........] - ETA: 0s - loss: 0.4902 - accuracy: 0.8224\n",
      "Epoch 109: saving model to model/keypoint_classifier\\keypoint_classifier.hdf5\n",
      "29/29 [==============================] - 0s 5ms/step - loss: 0.4894 - accuracy: 0.8220 - val_loss: 0.1812 - val_accuracy: 0.9783\n",
      "Epoch 110/1000\n",
      "24/29 [=======================>......] - ETA: 0s - loss: 0.4733 - accuracy: 0.8190\n",
      "Epoch 110: saving model to model/keypoint_classifier\\keypoint_classifier.hdf5\n",
      "29/29 [==============================] - 0s 5ms/step - loss: 0.4779 - accuracy: 0.8162 - val_loss: 0.1862 - val_accuracy: 0.9733\n",
      "Epoch 111/1000\n",
      "21/29 [====================>.........] - ETA: 0s - loss: 0.4794 - accuracy: 0.8222\n",
      "Epoch 111: saving model to model/keypoint_classifier\\keypoint_classifier.hdf5\n",
      "29/29 [==============================] - 0s 5ms/step - loss: 0.4760 - accuracy: 0.8214 - val_loss: 0.1797 - val_accuracy: 0.9749\n",
      "Epoch 112/1000\n",
      "22/29 [=====================>........] - ETA: 0s - loss: 0.4872 - accuracy: 0.8203\n",
      "Epoch 112: saving model to model/keypoint_classifier\\keypoint_classifier.hdf5\n",
      "29/29 [==============================] - 0s 5ms/step - loss: 0.4877 - accuracy: 0.8214 - val_loss: 0.1785 - val_accuracy: 0.9774\n",
      "Epoch 113/1000\n",
      "17/29 [================>.............] - ETA: 0s - loss: 0.5016 - accuracy: 0.8065\n",
      "Epoch 113: saving model to model/keypoint_classifier\\keypoint_classifier.hdf5\n",
      "29/29 [==============================] - 0s 5ms/step - loss: 0.5024 - accuracy: 0.8106 - val_loss: 0.1811 - val_accuracy: 0.9774\n",
      "Epoch 114/1000\n",
      "21/29 [====================>.........] - ETA: 0s - loss: 0.4781 - accuracy: 0.8240\n",
      "Epoch 114: saving model to model/keypoint_classifier\\keypoint_classifier.hdf5\n",
      "29/29 [==============================] - 0s 5ms/step - loss: 0.4828 - accuracy: 0.8217 - val_loss: 0.1758 - val_accuracy: 0.9774\n",
      "Epoch 115/1000\n",
      "18/29 [=================>............] - ETA: 0s - loss: 0.4737 - accuracy: 0.8186\n",
      "Epoch 115: saving model to model/keypoint_classifier\\keypoint_classifier.hdf5\n",
      "29/29 [==============================] - 0s 5ms/step - loss: 0.4739 - accuracy: 0.8187 - val_loss: 0.1754 - val_accuracy: 0.9791\n",
      "Epoch 116/1000\n",
      "21/29 [====================>.........] - ETA: 0s - loss: 0.4558 - accuracy: 0.8233\n",
      "Epoch 116: saving model to model/keypoint_classifier\\keypoint_classifier.hdf5\n",
      "29/29 [==============================] - 0s 5ms/step - loss: 0.4663 - accuracy: 0.8206 - val_loss: 0.1780 - val_accuracy: 0.9758\n",
      "Epoch 117/1000\n",
      "20/29 [===================>..........] - ETA: 0s - loss: 0.4537 - accuracy: 0.8375\n",
      "Epoch 117: saving model to model/keypoint_classifier\\keypoint_classifier.hdf5\n",
      "29/29 [==============================] - 0s 6ms/step - loss: 0.4630 - accuracy: 0.8343 - val_loss: 0.1705 - val_accuracy: 0.9808\n",
      "Epoch 118/1000\n",
      "23/29 [======================>.......] - ETA: 0s - loss: 0.4592 - accuracy: 0.8298\n",
      "Epoch 118: saving model to model/keypoint_classifier\\keypoint_classifier.hdf5\n",
      "29/29 [==============================] - 0s 5ms/step - loss: 0.4712 - accuracy: 0.8259 - val_loss: 0.1745 - val_accuracy: 0.9766\n",
      "Epoch 119/1000\n",
      "20/29 [===================>..........] - ETA: 0s - loss: 0.4855 - accuracy: 0.8172\n",
      "Epoch 119: saving model to model/keypoint_classifier\\keypoint_classifier.hdf5\n",
      "29/29 [==============================] - 0s 5ms/step - loss: 0.4699 - accuracy: 0.8231 - val_loss: 0.1689 - val_accuracy: 0.9791\n",
      "Epoch 120/1000\n",
      "21/29 [====================>.........] - ETA: 0s - loss: 0.4684 - accuracy: 0.8255\n",
      "Epoch 120: saving model to model/keypoint_classifier\\keypoint_classifier.hdf5\n",
      "29/29 [==============================] - 0s 5ms/step - loss: 0.4804 - accuracy: 0.8237 - val_loss: 0.1723 - val_accuracy: 0.9799\n",
      "Epoch 121/1000\n",
      "22/29 [=====================>........] - ETA: 0s - loss: 0.4932 - accuracy: 0.8143\n",
      "Epoch 121: saving model to model/keypoint_classifier\\keypoint_classifier.hdf5\n",
      "29/29 [==============================] - 0s 5ms/step - loss: 0.4829 - accuracy: 0.8175 - val_loss: 0.1758 - val_accuracy: 0.9791\n",
      "Epoch 122/1000\n",
      "24/29 [=======================>......] - ETA: 0s - loss: 0.4897 - accuracy: 0.8275\n",
      "Epoch 122: saving model to model/keypoint_classifier\\keypoint_classifier.hdf5\n",
      "29/29 [==============================] - 0s 5ms/step - loss: 0.4902 - accuracy: 0.8251 - val_loss: 0.1730 - val_accuracy: 0.9783\n",
      "Epoch 123/1000\n",
      "21/29 [====================>.........] - ETA: 0s - loss: 0.4718 - accuracy: 0.8177\n",
      "Epoch 123: saving model to model/keypoint_classifier\\keypoint_classifier.hdf5\n",
      "29/29 [==============================] - 0s 5ms/step - loss: 0.4778 - accuracy: 0.8159 - val_loss: 0.1799 - val_accuracy: 0.9758\n",
      "Epoch 124/1000\n",
      "22/29 [=====================>........] - ETA: 0s - loss: 0.4778 - accuracy: 0.8182\n",
      "Epoch 124: saving model to model/keypoint_classifier\\keypoint_classifier.hdf5\n",
      "29/29 [==============================] - 0s 5ms/step - loss: 0.4814 - accuracy: 0.8184 - val_loss: 0.1766 - val_accuracy: 0.9774\n",
      "Epoch 125/1000\n",
      "22/29 [=====================>........] - ETA: 0s - loss: 0.4703 - accuracy: 0.8224\n",
      "Epoch 125: saving model to model/keypoint_classifier\\keypoint_classifier.hdf5\n",
      "29/29 [==============================] - 0s 5ms/step - loss: 0.4554 - accuracy: 0.8295 - val_loss: 0.1760 - val_accuracy: 0.9766\n",
      "Epoch 126/1000\n",
      "21/29 [====================>.........] - ETA: 0s - loss: 0.4602 - accuracy: 0.8222\n",
      "Epoch 126: saving model to model/keypoint_classifier\\keypoint_classifier.hdf5\n",
      "29/29 [==============================] - 0s 5ms/step - loss: 0.4666 - accuracy: 0.8217 - val_loss: 0.1729 - val_accuracy: 0.9791\n",
      "Epoch 127/1000\n",
      "21/29 [====================>.........] - ETA: 0s - loss: 0.4739 - accuracy: 0.8181\n",
      "Epoch 127: saving model to model/keypoint_classifier\\keypoint_classifier.hdf5\n",
      "29/29 [==============================] - 0s 5ms/step - loss: 0.4713 - accuracy: 0.8198 - val_loss: 0.1720 - val_accuracy: 0.9791\n",
      "Epoch 128/1000\n",
      "19/29 [==================>...........] - ETA: 0s - loss: 0.4604 - accuracy: 0.8347\n",
      "Epoch 128: saving model to model/keypoint_classifier\\keypoint_classifier.hdf5\n",
      "29/29 [==============================] - 0s 5ms/step - loss: 0.4562 - accuracy: 0.8334 - val_loss: 0.1689 - val_accuracy: 0.9774\n",
      "Epoch 129/1000\n",
      "22/29 [=====================>........] - ETA: 0s - loss: 0.4555 - accuracy: 0.8363\n",
      "Epoch 129: saving model to model/keypoint_classifier\\keypoint_classifier.hdf5\n",
      "29/29 [==============================] - 0s 5ms/step - loss: 0.4504 - accuracy: 0.8345 - val_loss: 0.1749 - val_accuracy: 0.9699\n",
      "Epoch 130/1000\n",
      "22/29 [=====================>........] - ETA: 0s - loss: 0.4555 - accuracy: 0.8313\n",
      "Epoch 130: saving model to model/keypoint_classifier\\keypoint_classifier.hdf5\n",
      "29/29 [==============================] - 0s 5ms/step - loss: 0.4606 - accuracy: 0.8279 - val_loss: 0.1735 - val_accuracy: 0.9774\n",
      "Epoch 131/1000\n",
      "22/29 [=====================>........] - ETA: 0s - loss: 0.4822 - accuracy: 0.8185\n",
      "Epoch 131: saving model to model/keypoint_classifier\\keypoint_classifier.hdf5\n",
      "29/29 [==============================] - 0s 5ms/step - loss: 0.4867 - accuracy: 0.8178 - val_loss: 0.1743 - val_accuracy: 0.9791\n",
      "Epoch 132/1000\n",
      "21/29 [====================>.........] - ETA: 0s - loss: 0.4587 - accuracy: 0.8307\n",
      "Epoch 132: saving model to model/keypoint_classifier\\keypoint_classifier.hdf5\n",
      "29/29 [==============================] - 0s 5ms/step - loss: 0.4568 - accuracy: 0.8295 - val_loss: 0.1738 - val_accuracy: 0.9783\n",
      "Epoch 133/1000\n",
      "22/29 [=====================>........] - ETA: 0s - loss: 0.4647 - accuracy: 0.8246\n",
      "Epoch 133: saving model to model/keypoint_classifier\\keypoint_classifier.hdf5\n",
      "29/29 [==============================] - 0s 5ms/step - loss: 0.4640 - accuracy: 0.8245 - val_loss: 0.1722 - val_accuracy: 0.9791\n",
      "Epoch 134/1000\n",
      "22/29 [=====================>........] - ETA: 0s - loss: 0.4920 - accuracy: 0.8175\n",
      "Epoch 134: saving model to model/keypoint_classifier\\keypoint_classifier.hdf5\n",
      "29/29 [==============================] - 0s 5ms/step - loss: 0.4847 - accuracy: 0.8162 - val_loss: 0.1733 - val_accuracy: 0.9808\n",
      "Epoch 135/1000\n",
      "22/29 [=====================>........] - ETA: 0s - loss: 0.4747 - accuracy: 0.8139\n",
      "Epoch 135: saving model to model/keypoint_classifier\\keypoint_classifier.hdf5\n",
      "29/29 [==============================] - 0s 5ms/step - loss: 0.4684 - accuracy: 0.8175 - val_loss: 0.1710 - val_accuracy: 0.9791\n",
      "Epoch 136/1000\n",
      "23/29 [======================>.......] - ETA: 0s - loss: 0.4741 - accuracy: 0.8281\n",
      "Epoch 136: saving model to model/keypoint_classifier\\keypoint_classifier.hdf5\n",
      "29/29 [==============================] - 0s 5ms/step - loss: 0.4682 - accuracy: 0.8326 - val_loss: 0.1663 - val_accuracy: 0.9816\n",
      "Epoch 137/1000\n",
      "22/29 [=====================>........] - ETA: 0s - loss: 0.4852 - accuracy: 0.8161\n",
      "Epoch 137: saving model to model/keypoint_classifier\\keypoint_classifier.hdf5\n",
      "29/29 [==============================] - 0s 5ms/step - loss: 0.4754 - accuracy: 0.8209 - val_loss: 0.1667 - val_accuracy: 0.9808\n",
      "Epoch 138/1000\n",
      "22/29 [=====================>........] - ETA: 0s - loss: 0.4675 - accuracy: 0.8242\n",
      "Epoch 138: saving model to model/keypoint_classifier\\keypoint_classifier.hdf5\n",
      "29/29 [==============================] - 0s 5ms/step - loss: 0.4703 - accuracy: 0.8228 - val_loss: 0.1689 - val_accuracy: 0.9808\n",
      "Epoch 139/1000\n",
      "22/29 [=====================>........] - ETA: 0s - loss: 0.4543 - accuracy: 0.8310\n",
      "Epoch 139: saving model to model/keypoint_classifier\\keypoint_classifier.hdf5\n",
      "29/29 [==============================] - 0s 5ms/step - loss: 0.4489 - accuracy: 0.8331 - val_loss: 0.1670 - val_accuracy: 0.9799\n",
      "Epoch 140/1000\n",
      "20/29 [===================>..........] - ETA: 0s - loss: 0.4527 - accuracy: 0.8293\n",
      "Epoch 140: saving model to model/keypoint_classifier\\keypoint_classifier.hdf5\n",
      "29/29 [==============================] - 0s 5ms/step - loss: 0.4547 - accuracy: 0.8265 - val_loss: 0.1665 - val_accuracy: 0.9799\n",
      "Epoch 141/1000\n",
      "23/29 [======================>.......] - ETA: 0s - loss: 0.4660 - accuracy: 0.8257\n",
      "Epoch 141: saving model to model/keypoint_classifier\\keypoint_classifier.hdf5\n",
      "29/29 [==============================] - 0s 5ms/step - loss: 0.4692 - accuracy: 0.8242 - val_loss: 0.1646 - val_accuracy: 0.9783\n",
      "Epoch 142/1000\n",
      "22/29 [=====================>........] - ETA: 0s - loss: 0.4771 - accuracy: 0.8164\n",
      "Epoch 142: saving model to model/keypoint_classifier\\keypoint_classifier.hdf5\n",
      "29/29 [==============================] - 0s 5ms/step - loss: 0.4784 - accuracy: 0.8156 - val_loss: 0.1627 - val_accuracy: 0.9799\n",
      "Epoch 143/1000\n",
      "21/29 [====================>.........] - ETA: 0s - loss: 0.4592 - accuracy: 0.8270\n",
      "Epoch 143: saving model to model/keypoint_classifier\\keypoint_classifier.hdf5\n",
      "29/29 [==============================] - 0s 5ms/step - loss: 0.4536 - accuracy: 0.8304 - val_loss: 0.1684 - val_accuracy: 0.9799\n",
      "Epoch 144/1000\n",
      "22/29 [=====================>........] - ETA: 0s - loss: 0.4637 - accuracy: 0.8299\n",
      "Epoch 144: saving model to model/keypoint_classifier\\keypoint_classifier.hdf5\n",
      "29/29 [==============================] - 0s 5ms/step - loss: 0.4617 - accuracy: 0.8301 - val_loss: 0.1708 - val_accuracy: 0.9741\n",
      "Epoch 145/1000\n",
      "22/29 [=====================>........] - ETA: 0s - loss: 0.4621 - accuracy: 0.8263\n",
      "Epoch 145: saving model to model/keypoint_classifier\\keypoint_classifier.hdf5\n",
      "29/29 [==============================] - 0s 5ms/step - loss: 0.4676 - accuracy: 0.8240 - val_loss: 0.1702 - val_accuracy: 0.9766\n",
      "Epoch 146/1000\n",
      "22/29 [=====================>........] - ETA: 0s - loss: 0.4458 - accuracy: 0.8349\n",
      "Epoch 146: saving model to model/keypoint_classifier\\keypoint_classifier.hdf5\n",
      "29/29 [==============================] - 0s 5ms/step - loss: 0.4449 - accuracy: 0.8348 - val_loss: 0.1713 - val_accuracy: 0.9758\n",
      "Epoch 147/1000\n",
      "21/29 [====================>.........] - ETA: 0s - loss: 0.4719 - accuracy: 0.8118\n",
      "Epoch 147: saving model to model/keypoint_classifier\\keypoint_classifier.hdf5\n",
      "29/29 [==============================] - 0s 5ms/step - loss: 0.4655 - accuracy: 0.8187 - val_loss: 0.1761 - val_accuracy: 0.9783\n",
      "Epoch 148/1000\n",
      "22/29 [=====================>........] - ETA: 0s - loss: 0.4473 - accuracy: 0.8324\n",
      "Epoch 148: saving model to model/keypoint_classifier\\keypoint_classifier.hdf5\n",
      "29/29 [==============================] - 0s 5ms/step - loss: 0.4580 - accuracy: 0.8290 - val_loss: 0.1696 - val_accuracy: 0.9758\n",
      "Epoch 149/1000\n",
      "21/29 [====================>.........] - ETA: 0s - loss: 0.4536 - accuracy: 0.8326\n",
      "Epoch 149: saving model to model/keypoint_classifier\\keypoint_classifier.hdf5\n",
      "29/29 [==============================] - 0s 5ms/step - loss: 0.4493 - accuracy: 0.8365 - val_loss: 0.1626 - val_accuracy: 0.9774\n",
      "Epoch 150/1000\n",
      "25/29 [========================>.....] - ETA: 0s - loss: 0.4394 - accuracy: 0.8325\n",
      "Epoch 150: saving model to model/keypoint_classifier\\keypoint_classifier.hdf5\n",
      "29/29 [==============================] - 0s 5ms/step - loss: 0.4413 - accuracy: 0.8318 - val_loss: 0.1590 - val_accuracy: 0.9799\n",
      "Epoch 151/1000\n",
      "18/29 [=================>............] - ETA: 0s - loss: 0.4547 - accuracy: 0.8303\n",
      "Epoch 151: saving model to model/keypoint_classifier\\keypoint_classifier.hdf5\n",
      "29/29 [==============================] - 0s 6ms/step - loss: 0.4527 - accuracy: 0.8287 - val_loss: 0.1619 - val_accuracy: 0.9791\n",
      "Epoch 152/1000\n",
      "19/29 [==================>...........] - ETA: 0s - loss: 0.4655 - accuracy: 0.8331\n",
      "Epoch 152: saving model to model/keypoint_classifier\\keypoint_classifier.hdf5\n",
      "29/29 [==============================] - 0s 5ms/step - loss: 0.4552 - accuracy: 0.8351 - val_loss: 0.1579 - val_accuracy: 0.9783\n",
      "Epoch 153/1000\n",
      "25/29 [========================>.....] - ETA: 0s - loss: 0.4569 - accuracy: 0.8288\n",
      "Epoch 153: saving model to model/keypoint_classifier\\keypoint_classifier.hdf5\n",
      "29/29 [==============================] - 0s 5ms/step - loss: 0.4566 - accuracy: 0.8304 - val_loss: 0.1613 - val_accuracy: 0.9758\n",
      "Epoch 154/1000\n",
      "21/29 [====================>.........] - ETA: 0s - loss: 0.4373 - accuracy: 0.8348\n",
      "Epoch 154: saving model to model/keypoint_classifier\\keypoint_classifier.hdf5\n",
      "29/29 [==============================] - 0s 5ms/step - loss: 0.4456 - accuracy: 0.8301 - val_loss: 0.1651 - val_accuracy: 0.9733\n",
      "Epoch 155/1000\n",
      "24/29 [=======================>......] - ETA: 0s - loss: 0.4442 - accuracy: 0.8285\n",
      "Epoch 155: saving model to model/keypoint_classifier\\keypoint_classifier.hdf5\n",
      "29/29 [==============================] - 0s 5ms/step - loss: 0.4465 - accuracy: 0.8273 - val_loss: 0.1672 - val_accuracy: 0.9758\n",
      "Epoch 156/1000\n",
      "22/29 [=====================>........] - ETA: 0s - loss: 0.4575 - accuracy: 0.8327\n",
      "Epoch 156: saving model to model/keypoint_classifier\\keypoint_classifier.hdf5\n",
      "29/29 [==============================] - 0s 5ms/step - loss: 0.4436 - accuracy: 0.8387 - val_loss: 0.1613 - val_accuracy: 0.9741\n",
      "Epoch 157/1000\n",
      "22/29 [=====================>........] - ETA: 0s - loss: 0.4418 - accuracy: 0.8395\n",
      "Epoch 157: saving model to model/keypoint_classifier\\keypoint_classifier.hdf5\n",
      "29/29 [==============================] - 0s 5ms/step - loss: 0.4387 - accuracy: 0.8393 - val_loss: 0.1694 - val_accuracy: 0.9716\n",
      "Epoch 158/1000\n",
      "21/29 [====================>.........] - ETA: 0s - loss: 0.4336 - accuracy: 0.8382\n",
      "Epoch 158: saving model to model/keypoint_classifier\\keypoint_classifier.hdf5\n",
      "29/29 [==============================] - 0s 5ms/step - loss: 0.4419 - accuracy: 0.8334 - val_loss: 0.1629 - val_accuracy: 0.9724\n",
      "Epoch 159/1000\n",
      "19/29 [==================>...........] - ETA: 0s - loss: 0.4784 - accuracy: 0.8170\n",
      "Epoch 159: saving model to model/keypoint_classifier\\keypoint_classifier.hdf5\n",
      "29/29 [==============================] - 0s 5ms/step - loss: 0.4717 - accuracy: 0.8226 - val_loss: 0.1658 - val_accuracy: 0.9749\n",
      "Epoch 160/1000\n",
      "15/29 [==============>...............] - ETA: 0s - loss: 0.4405 - accuracy: 0.8281\n",
      "Epoch 160: saving model to model/keypoint_classifier\\keypoint_classifier.hdf5\n",
      "29/29 [==============================] - 0s 6ms/step - loss: 0.4513 - accuracy: 0.8262 - val_loss: 0.1668 - val_accuracy: 0.9724\n",
      "Epoch 161/1000\n",
      "22/29 [=====================>........] - ETA: 0s - loss: 0.4524 - accuracy: 0.8345\n",
      "Epoch 161: saving model to model/keypoint_classifier\\keypoint_classifier.hdf5\n",
      "29/29 [==============================] - 0s 5ms/step - loss: 0.4475 - accuracy: 0.8343 - val_loss: 0.1657 - val_accuracy: 0.9733\n",
      "Epoch 162/1000\n",
      "23/29 [======================>.......] - ETA: 0s - loss: 0.4455 - accuracy: 0.8271\n",
      "Epoch 162: saving model to model/keypoint_classifier\\keypoint_classifier.hdf5\n",
      "29/29 [==============================] - 0s 6ms/step - loss: 0.4437 - accuracy: 0.8292 - val_loss: 0.1611 - val_accuracy: 0.9774\n",
      "Epoch 163/1000\n",
      "22/29 [=====================>........] - ETA: 0s - loss: 0.4574 - accuracy: 0.8303\n",
      "Epoch 163: saving model to model/keypoint_classifier\\keypoint_classifier.hdf5\n",
      "29/29 [==============================] - 0s 5ms/step - loss: 0.4489 - accuracy: 0.8323 - val_loss: 0.1678 - val_accuracy: 0.9741\n",
      "Epoch 164/1000\n",
      "22/29 [=====================>........] - ETA: 0s - loss: 0.4520 - accuracy: 0.8295\n",
      "Epoch 164: saving model to model/keypoint_classifier\\keypoint_classifier.hdf5\n",
      "29/29 [==============================] - 0s 5ms/step - loss: 0.4423 - accuracy: 0.8318 - val_loss: 0.1674 - val_accuracy: 0.9741\n",
      "Epoch 165/1000\n",
      "22/29 [=====================>........] - ETA: 0s - loss: 0.4428 - accuracy: 0.8352\n",
      "Epoch 165: saving model to model/keypoint_classifier\\keypoint_classifier.hdf5\n",
      "29/29 [==============================] - 0s 5ms/step - loss: 0.4628 - accuracy: 0.8304 - val_loss: 0.1599 - val_accuracy: 0.9758\n",
      "Epoch 166/1000\n",
      "22/29 [=====================>........] - ETA: 0s - loss: 0.4308 - accuracy: 0.8427\n",
      "Epoch 166: saving model to model/keypoint_classifier\\keypoint_classifier.hdf5\n",
      "29/29 [==============================] - 0s 5ms/step - loss: 0.4406 - accuracy: 0.8401 - val_loss: 0.1634 - val_accuracy: 0.9758\n",
      "Epoch 167/1000\n",
      "22/29 [=====================>........] - ETA: 0s - loss: 0.4491 - accuracy: 0.8338\n",
      "Epoch 167: saving model to model/keypoint_classifier\\keypoint_classifier.hdf5\n",
      "29/29 [==============================] - 0s 5ms/step - loss: 0.4499 - accuracy: 0.8326 - val_loss: 0.1645 - val_accuracy: 0.9758\n",
      "Epoch 168/1000\n",
      "23/29 [======================>.......] - ETA: 0s - loss: 0.4563 - accuracy: 0.8251\n",
      "Epoch 168: saving model to model/keypoint_classifier\\keypoint_classifier.hdf5\n",
      "29/29 [==============================] - 0s 5ms/step - loss: 0.4632 - accuracy: 0.8265 - val_loss: 0.1627 - val_accuracy: 0.9783\n",
      "Epoch 169/1000\n",
      "22/29 [=====================>........] - ETA: 0s - loss: 0.4444 - accuracy: 0.8292\n",
      "Epoch 169: saving model to model/keypoint_classifier\\keypoint_classifier.hdf5\n",
      "29/29 [==============================] - 0s 5ms/step - loss: 0.4456 - accuracy: 0.8273 - val_loss: 0.1642 - val_accuracy: 0.9774\n",
      "Epoch 170/1000\n",
      "23/29 [======================>.......] - ETA: 0s - loss: 0.4404 - accuracy: 0.8393\n",
      "Epoch 170: saving model to model/keypoint_classifier\\keypoint_classifier.hdf5\n",
      "29/29 [==============================] - 0s 5ms/step - loss: 0.4369 - accuracy: 0.8404 - val_loss: 0.1667 - val_accuracy: 0.9758\n",
      "Epoch 171/1000\n",
      "23/29 [======================>.......] - ETA: 0s - loss: 0.4586 - accuracy: 0.8278\n",
      "Epoch 171: saving model to model/keypoint_classifier\\keypoint_classifier.hdf5\n",
      "29/29 [==============================] - 0s 5ms/step - loss: 0.4471 - accuracy: 0.8309 - val_loss: 0.1644 - val_accuracy: 0.9783\n",
      "Epoch 172/1000\n",
      "22/29 [=====================>........] - ETA: 0s - loss: 0.4480 - accuracy: 0.8324\n",
      "Epoch 172: saving model to model/keypoint_classifier\\keypoint_classifier.hdf5\n",
      "29/29 [==============================] - 0s 6ms/step - loss: 0.4483 - accuracy: 0.8298 - val_loss: 0.1554 - val_accuracy: 0.9816\n",
      "Epoch 173/1000\n",
      "21/29 [====================>.........] - ETA: 0s - loss: 0.4436 - accuracy: 0.8371\n",
      "Epoch 173: saving model to model/keypoint_classifier\\keypoint_classifier.hdf5\n",
      "29/29 [==============================] - 0s 5ms/step - loss: 0.4422 - accuracy: 0.8345 - val_loss: 0.1594 - val_accuracy: 0.9791\n",
      "Epoch 174/1000\n",
      "21/29 [====================>.........] - ETA: 0s - loss: 0.4545 - accuracy: 0.8326\n",
      "Epoch 174: saving model to model/keypoint_classifier\\keypoint_classifier.hdf5\n",
      "29/29 [==============================] - 0s 5ms/step - loss: 0.4571 - accuracy: 0.8276 - val_loss: 0.1671 - val_accuracy: 0.9766\n",
      "Epoch 175/1000\n",
      "19/29 [==================>...........] - ETA: 0s - loss: 0.4102 - accuracy: 0.8487\n",
      "Epoch 175: saving model to model/keypoint_classifier\\keypoint_classifier.hdf5\n",
      "29/29 [==============================] - 0s 6ms/step - loss: 0.4123 - accuracy: 0.8462 - val_loss: 0.1581 - val_accuracy: 0.9774\n",
      "Epoch 176/1000\n",
      "24/29 [=======================>......] - ETA: 0s - loss: 0.4564 - accuracy: 0.8245\n",
      "Epoch 176: saving model to model/keypoint_classifier\\keypoint_classifier.hdf5\n",
      "29/29 [==============================] - 0s 5ms/step - loss: 0.4520 - accuracy: 0.8259 - val_loss: 0.1628 - val_accuracy: 0.9749\n",
      "Epoch 177/1000\n",
      "17/29 [================>.............] - ETA: 0s - loss: 0.4720 - accuracy: 0.8208\n",
      "Epoch 177: saving model to model/keypoint_classifier\\keypoint_classifier.hdf5\n",
      "29/29 [==============================] - 0s 5ms/step - loss: 0.4669 - accuracy: 0.8267 - val_loss: 0.1636 - val_accuracy: 0.9791\n",
      "Epoch 178/1000\n",
      "16/29 [===============>..............] - ETA: 0s - loss: 0.4394 - accuracy: 0.8413\n",
      "Epoch 178: saving model to model/keypoint_classifier\\keypoint_classifier.hdf5\n",
      "29/29 [==============================] - 0s 5ms/step - loss: 0.4248 - accuracy: 0.8476 - val_loss: 0.1574 - val_accuracy: 0.9774\n",
      "Epoch 179/1000\n",
      "29/29 [==============================] - ETA: 0s - loss: 0.4517 - accuracy: 0.8312\n",
      "Epoch 179: saving model to model/keypoint_classifier\\keypoint_classifier.hdf5\n",
      "29/29 [==============================] - 0s 5ms/step - loss: 0.4517 - accuracy: 0.8312 - val_loss: 0.1552 - val_accuracy: 0.9816\n",
      "Epoch 180/1000\n",
      "19/29 [==================>...........] - ETA: 0s - loss: 0.4245 - accuracy: 0.8417\n",
      "Epoch 180: saving model to model/keypoint_classifier\\keypoint_classifier.hdf5\n",
      "29/29 [==============================] - 0s 6ms/step - loss: 0.4204 - accuracy: 0.8462 - val_loss: 0.1558 - val_accuracy: 0.9816\n",
      "Epoch 181/1000\n",
      "18/29 [=================>............] - ETA: 0s - loss: 0.4650 - accuracy: 0.8220\n",
      "Epoch 181: saving model to model/keypoint_classifier\\keypoint_classifier.hdf5\n",
      "29/29 [==============================] - 0s 6ms/step - loss: 0.4553 - accuracy: 0.8242 - val_loss: 0.1642 - val_accuracy: 0.9808\n",
      "Epoch 182/1000\n",
      "19/29 [==================>...........] - ETA: 0s - loss: 0.4588 - accuracy: 0.8236\n",
      "Epoch 182: saving model to model/keypoint_classifier\\keypoint_classifier.hdf5\n",
      "29/29 [==============================] - 0s 5ms/step - loss: 0.4480 - accuracy: 0.8340 - val_loss: 0.1632 - val_accuracy: 0.9741\n",
      "Epoch 183/1000\n",
      "23/29 [======================>.......] - ETA: 0s - loss: 0.4617 - accuracy: 0.8288\n",
      "Epoch 183: saving model to model/keypoint_classifier\\keypoint_classifier.hdf5\n",
      "29/29 [==============================] - 0s 5ms/step - loss: 0.4550 - accuracy: 0.8312 - val_loss: 0.1625 - val_accuracy: 0.9825\n",
      "Epoch 184/1000\n",
      "25/29 [========================>.....] - ETA: 0s - loss: 0.4286 - accuracy: 0.8447\n",
      "Epoch 184: saving model to model/keypoint_classifier\\keypoint_classifier.hdf5\n",
      "29/29 [==============================] - 0s 5ms/step - loss: 0.4311 - accuracy: 0.8412 - val_loss: 0.1592 - val_accuracy: 0.9791\n",
      "Epoch 185/1000\n",
      "21/29 [====================>.........] - ETA: 0s - loss: 0.4579 - accuracy: 0.8315\n",
      "Epoch 185: saving model to model/keypoint_classifier\\keypoint_classifier.hdf5\n",
      "29/29 [==============================] - 0s 5ms/step - loss: 0.4666 - accuracy: 0.8281 - val_loss: 0.1571 - val_accuracy: 0.9825\n",
      "Epoch 186/1000\n",
      "23/29 [======================>.......] - ETA: 0s - loss: 0.4520 - accuracy: 0.8308\n",
      "Epoch 186: saving model to model/keypoint_classifier\\keypoint_classifier.hdf5\n",
      "29/29 [==============================] - 0s 5ms/step - loss: 0.4394 - accuracy: 0.8345 - val_loss: 0.1588 - val_accuracy: 0.9791\n",
      "Epoch 187/1000\n",
      "25/29 [========================>.....] - ETA: 0s - loss: 0.4404 - accuracy: 0.8400\n",
      "Epoch 187: saving model to model/keypoint_classifier\\keypoint_classifier.hdf5\n",
      "29/29 [==============================] - 0s 5ms/step - loss: 0.4381 - accuracy: 0.8415 - val_loss: 0.1545 - val_accuracy: 0.9816\n",
      "Epoch 188/1000\n",
      "21/29 [====================>.........] - ETA: 0s - loss: 0.4534 - accuracy: 0.8333\n",
      "Epoch 188: saving model to model/keypoint_classifier\\keypoint_classifier.hdf5\n",
      "29/29 [==============================] - 0s 6ms/step - loss: 0.4615 - accuracy: 0.8267 - val_loss: 0.1647 - val_accuracy: 0.9783\n",
      "Epoch 189/1000\n",
      "20/29 [===================>..........] - ETA: 0s - loss: 0.4307 - accuracy: 0.8469\n",
      "Epoch 189: saving model to model/keypoint_classifier\\keypoint_classifier.hdf5\n",
      "29/29 [==============================] - 0s 5ms/step - loss: 0.4390 - accuracy: 0.8409 - val_loss: 0.1680 - val_accuracy: 0.9741\n",
      "Epoch 190/1000\n",
      "21/29 [====================>.........] - ETA: 0s - loss: 0.4321 - accuracy: 0.8438\n",
      "Epoch 190: saving model to model/keypoint_classifier\\keypoint_classifier.hdf5\n",
      "29/29 [==============================] - 0s 5ms/step - loss: 0.4354 - accuracy: 0.8404 - val_loss: 0.1696 - val_accuracy: 0.9741\n",
      "Epoch 191/1000\n",
      "22/29 [=====================>........] - ETA: 0s - loss: 0.4491 - accuracy: 0.8384\n",
      "Epoch 191: saving model to model/keypoint_classifier\\keypoint_classifier.hdf5\n",
      "29/29 [==============================] - 0s 5ms/step - loss: 0.4465 - accuracy: 0.8348 - val_loss: 0.1620 - val_accuracy: 0.9783\n",
      "Epoch 192/1000\n",
      "22/29 [=====================>........] - ETA: 0s - loss: 0.4413 - accuracy: 0.8402\n",
      "Epoch 192: saving model to model/keypoint_classifier\\keypoint_classifier.hdf5\n",
      "29/29 [==============================] - 0s 6ms/step - loss: 0.4458 - accuracy: 0.8362 - val_loss: 0.1559 - val_accuracy: 0.9816\n",
      "Epoch 193/1000\n",
      "20/29 [===================>..........] - ETA: 0s - loss: 0.4395 - accuracy: 0.8391\n",
      "Epoch 193: saving model to model/keypoint_classifier\\keypoint_classifier.hdf5\n",
      "29/29 [==============================] - 0s 5ms/step - loss: 0.4417 - accuracy: 0.8373 - val_loss: 0.1519 - val_accuracy: 0.9808\n",
      "Epoch 194/1000\n",
      "21/29 [====================>.........] - ETA: 0s - loss: 0.4273 - accuracy: 0.8356\n",
      "Epoch 194: saving model to model/keypoint_classifier\\keypoint_classifier.hdf5\n",
      "29/29 [==============================] - 0s 5ms/step - loss: 0.4275 - accuracy: 0.8382 - val_loss: 0.1557 - val_accuracy: 0.9799\n",
      "Epoch 195/1000\n",
      "21/29 [====================>.........] - ETA: 0s - loss: 0.4376 - accuracy: 0.8415\n",
      "Epoch 195: saving model to model/keypoint_classifier\\keypoint_classifier.hdf5\n",
      "29/29 [==============================] - 0s 6ms/step - loss: 0.4244 - accuracy: 0.8462 - val_loss: 0.1561 - val_accuracy: 0.9766\n",
      "Epoch 196/1000\n",
      "21/29 [====================>.........] - ETA: 0s - loss: 0.4438 - accuracy: 0.8374\n",
      "Epoch 196: saving model to model/keypoint_classifier\\keypoint_classifier.hdf5\n",
      "29/29 [==============================] - 0s 6ms/step - loss: 0.4403 - accuracy: 0.8365 - val_loss: 0.1586 - val_accuracy: 0.9774\n",
      "Epoch 197/1000\n",
      "22/29 [=====================>........] - ETA: 0s - loss: 0.4461 - accuracy: 0.8377\n",
      "Epoch 197: saving model to model/keypoint_classifier\\keypoint_classifier.hdf5\n",
      "29/29 [==============================] - 0s 5ms/step - loss: 0.4309 - accuracy: 0.8443 - val_loss: 0.1533 - val_accuracy: 0.9783\n",
      "Epoch 198/1000\n",
      "21/29 [====================>.........] - ETA: 0s - loss: 0.4290 - accuracy: 0.8467\n",
      "Epoch 198: saving model to model/keypoint_classifier\\keypoint_classifier.hdf5\n",
      "29/29 [==============================] - 0s 6ms/step - loss: 0.4283 - accuracy: 0.8476 - val_loss: 0.1561 - val_accuracy: 0.9783\n",
      "Epoch 199/1000\n",
      "22/29 [=====================>........] - ETA: 0s - loss: 0.4379 - accuracy: 0.8370\n",
      "Epoch 199: saving model to model/keypoint_classifier\\keypoint_classifier.hdf5\n",
      "29/29 [==============================] - 0s 5ms/step - loss: 0.4294 - accuracy: 0.8437 - val_loss: 0.1559 - val_accuracy: 0.9791\n",
      "Epoch 200/1000\n",
      "21/29 [====================>.........] - ETA: 0s - loss: 0.4402 - accuracy: 0.8333\n",
      "Epoch 200: saving model to model/keypoint_classifier\\keypoint_classifier.hdf5\n",
      "29/29 [==============================] - 0s 6ms/step - loss: 0.4344 - accuracy: 0.8362 - val_loss: 0.1607 - val_accuracy: 0.9791\n",
      "Epoch 201/1000\n",
      "20/29 [===================>..........] - ETA: 0s - loss: 0.4383 - accuracy: 0.8340\n",
      "Epoch 201: saving model to model/keypoint_classifier\\keypoint_classifier.hdf5\n",
      "29/29 [==============================] - 0s 6ms/step - loss: 0.4439 - accuracy: 0.8320 - val_loss: 0.1659 - val_accuracy: 0.9766\n",
      "Epoch 202/1000\n",
      "19/29 [==================>...........] - ETA: 0s - loss: 0.4469 - accuracy: 0.8343\n",
      "Epoch 202: saving model to model/keypoint_classifier\\keypoint_classifier.hdf5\n",
      "29/29 [==============================] - 0s 6ms/step - loss: 0.4639 - accuracy: 0.8276 - val_loss: 0.1664 - val_accuracy: 0.9766\n",
      "Epoch 203/1000\n",
      "21/29 [====================>.........] - ETA: 0s - loss: 0.4449 - accuracy: 0.8411\n",
      "Epoch 203: saving model to model/keypoint_classifier\\keypoint_classifier.hdf5\n",
      "29/29 [==============================] - 0s 5ms/step - loss: 0.4476 - accuracy: 0.8398 - val_loss: 0.1578 - val_accuracy: 0.9774\n",
      "Epoch 204/1000\n",
      "20/29 [===================>..........] - ETA: 0s - loss: 0.4263 - accuracy: 0.8422\n",
      "Epoch 204: saving model to model/keypoint_classifier\\keypoint_classifier.hdf5\n",
      "29/29 [==============================] - 0s 6ms/step - loss: 0.4356 - accuracy: 0.8432 - val_loss: 0.1605 - val_accuracy: 0.9749\n",
      "Epoch 205/1000\n",
      "22/29 [=====================>........] - ETA: 0s - loss: 0.4372 - accuracy: 0.8388\n",
      "Epoch 205: saving model to model/keypoint_classifier\\keypoint_classifier.hdf5\n",
      "29/29 [==============================] - 0s 5ms/step - loss: 0.4431 - accuracy: 0.8348 - val_loss: 0.1628 - val_accuracy: 0.9724\n",
      "Epoch 206/1000\n",
      "20/29 [===================>..........] - ETA: 0s - loss: 0.4340 - accuracy: 0.8375\n",
      "Epoch 206: saving model to model/keypoint_classifier\\keypoint_classifier.hdf5\n",
      "29/29 [==============================] - 0s 7ms/step - loss: 0.4411 - accuracy: 0.8370 - val_loss: 0.1595 - val_accuracy: 0.9791\n",
      "Epoch 207/1000\n",
      "22/29 [=====================>........] - ETA: 0s - loss: 0.4414 - accuracy: 0.8356\n",
      "Epoch 207: saving model to model/keypoint_classifier\\keypoint_classifier.hdf5\n",
      "29/29 [==============================] - 0s 5ms/step - loss: 0.4449 - accuracy: 0.8326 - val_loss: 0.1561 - val_accuracy: 0.9774\n",
      "Epoch 208/1000\n",
      "21/29 [====================>.........] - ETA: 0s - loss: 0.4461 - accuracy: 0.8337\n",
      "Epoch 208: saving model to model/keypoint_classifier\\keypoint_classifier.hdf5\n",
      "29/29 [==============================] - 0s 6ms/step - loss: 0.4492 - accuracy: 0.8359 - val_loss: 0.1568 - val_accuracy: 0.9799\n",
      "Epoch 209/1000\n",
      "20/29 [===================>..........] - ETA: 0s - loss: 0.4032 - accuracy: 0.8480\n",
      "Epoch 209: saving model to model/keypoint_classifier\\keypoint_classifier.hdf5\n",
      "29/29 [==============================] - 0s 6ms/step - loss: 0.4061 - accuracy: 0.8468 - val_loss: 0.1586 - val_accuracy: 0.9783\n",
      "Epoch 210/1000\n",
      "19/29 [==================>...........] - ETA: 0s - loss: 0.4287 - accuracy: 0.8400\n",
      "Epoch 210: saving model to model/keypoint_classifier\\keypoint_classifier.hdf5\n",
      "29/29 [==============================] - 0s 6ms/step - loss: 0.4299 - accuracy: 0.8407 - val_loss: 0.1638 - val_accuracy: 0.9724\n",
      "Epoch 211/1000\n",
      "20/29 [===================>..........] - ETA: 0s - loss: 0.4339 - accuracy: 0.8313\n",
      "Epoch 211: saving model to model/keypoint_classifier\\keypoint_classifier.hdf5\n",
      "29/29 [==============================] - 0s 6ms/step - loss: 0.4405 - accuracy: 0.8287 - val_loss: 0.1630 - val_accuracy: 0.9766\n",
      "Epoch 212/1000\n",
      "20/29 [===================>..........] - ETA: 0s - loss: 0.4378 - accuracy: 0.8355\n",
      "Epoch 212: saving model to model/keypoint_classifier\\keypoint_classifier.hdf5\n",
      "29/29 [==============================] - 0s 6ms/step - loss: 0.4291 - accuracy: 0.8379 - val_loss: 0.1631 - val_accuracy: 0.9758\n",
      "Epoch 213/1000\n",
      "20/29 [===================>..........] - ETA: 0s - loss: 0.4475 - accuracy: 0.8340\n",
      "Epoch 213: saving model to model/keypoint_classifier\\keypoint_classifier.hdf5\n",
      "29/29 [==============================] - 0s 6ms/step - loss: 0.4523 - accuracy: 0.8318 - val_loss: 0.1617 - val_accuracy: 0.9774\n",
      "Epoch 213: early stopping\n"
     ]
    },
    {
     "data": {
      "text/plain": [
       "<keras.src.callbacks.History at 0x12f6becf9d0>"
      ]
     },
     "execution_count": 11,
     "metadata": {},
     "output_type": "execute_result"
    }
   ],
   "source": [
    "model.fit(\n",
    "    X_train,\n",
    "    y_train,\n",
    "    epochs=1000,\n",
    "    batch_size=128,\n",
    "    validation_data=(X_test, y_test),\n",
    "    callbacks=[cp_callback, es_callback]\n",
    ")"
   ]
  },
  {
   "cell_type": "code",
   "execution_count": 12,
   "metadata": {
    "colab": {
     "base_uri": "https://localhost:8080/"
    },
    "id": "pxvb2Y299hE3",
    "outputId": "59eb3185-2e37-4b9e-bc9d-ab1b8ac29b7f"
   },
   "outputs": [
    {
     "name": "stdout",
     "output_type": "stream",
     "text": [
      "10/10 [==============================] - 0s 2ms/step - loss: 0.1617 - accuracy: 0.9774\n"
     ]
    }
   ],
   "source": [
    "# Model evaluation\n",
    "val_loss, val_acc = model.evaluate(X_test, y_test, batch_size=128)"
   ]
  },
  {
   "cell_type": "code",
   "execution_count": 13,
   "metadata": {
    "id": "RBkmDeUW9hE4"
   },
   "outputs": [],
   "source": [
    "# Loading the saved model\n",
    "model = tf.keras.models.load_model(model_save_path)"
   ]
  },
  {
   "cell_type": "code",
   "execution_count": 18,
   "metadata": {},
   "outputs": [
    {
     "data": {
      "text/plain": [
       "array([[ 0.        ,  0.        ,  0.13574661, -0.16742082,  0.1764706 ,\n",
       "        -0.3438914 ,  0.19909503, -0.49321267,  0.2760181 , -0.5927602 ,\n",
       "        -0.04072398, -0.5294118 , -0.09954751, -0.7692308 , -0.14479639,\n",
       "        -0.90950227, -0.18099548, -1.        , -0.1764706 , -0.4841629 ,\n",
       "        -0.33936653, -0.71040726, -0.43438914, -0.8235294 , -0.49773756,\n",
       "        -0.8914027 , -0.2850679 , -0.39819005, -0.46606335, -0.57466066,\n",
       "        -0.5565611 , -0.67873305, -0.61538464, -0.74660635, -0.37104073,\n",
       "        -0.28959277, -0.5339367 , -0.4117647 , -0.61085975, -0.479638  ,\n",
       "        -0.6651584 , -0.53846157]], dtype=float32)"
      ]
     },
     "execution_count": 18,
     "metadata": {},
     "output_type": "execute_result"
    }
   ],
   "source": [
    "np.array([X_test[0]])"
   ]
  },
  {
   "cell_type": "code",
   "execution_count": 40,
   "metadata": {},
   "outputs": [
    {
     "data": {
      "text/plain": [
       "3"
      ]
     },
     "execution_count": 40,
     "metadata": {},
     "output_type": "execute_result"
    }
   ],
   "source": [
    "y_test[5]"
   ]
  },
  {
   "cell_type": "code",
   "execution_count": 47,
   "metadata": {
    "colab": {
     "base_uri": "https://localhost:8080/"
    },
    "id": "tFz9Tb0I9hE4",
    "outputId": "1c3b3528-54ae-4ee2-ab04-77429211cbef"
   },
   "outputs": [
    {
     "name": "stdout",
     "output_type": "stream",
     "text": [
      "1/1 [==============================] - 0s 24ms/step\n",
      "[5.6927459e-04 9.9839240e-01 9.6932740e-04 6.8907364e-05]\n",
      "1\n",
      "1\n"
     ]
    }
   ],
   "source": [
    "# Inference test\n",
    "a=2\n",
    "predict_result = model.predict(np.array([X_test[4]]))\n",
    "print(np.squeeze(predict_result))\n",
    "print(np.argmax(np.squeeze(predict_result)))\n",
    "print(y_test[4])"
   ]
  },
  {
   "cell_type": "markdown",
   "metadata": {
    "id": "S3U4yNWx9hE4"
   },
   "source": [
    "# Confusion matrix"
   ]
  },
  {
   "cell_type": "code",
   "execution_count": 48,
   "metadata": {
    "colab": {
     "base_uri": "https://localhost:8080/",
     "height": 582
    },
    "id": "AP1V6SCk9hE5",
    "outputId": "08e41a80-7a4a-4619-8125-ecc371368d19"
   },
   "outputs": [
    {
     "name": "stdout",
     "output_type": "stream",
     "text": [
      "38/38 [==============================] - 0s 2ms/step\n"
     ]
    },
    {
     "data": {
      "image/png": "[encoded data removed]",
      "text/plain": [
       "<Figure size 700x600 with 2 Axes>"
      ]
     },
     "metadata": {},
     "output_type": "display_data"
    },
    {
     "name": "stdout",
     "output_type": "stream",
     "text": [
      "Classification Report\n",
      "              precision    recall  f1-score   support\n",
      "\n",
      "           0       0.97      0.99      0.98       402\n",
      "           1       0.98      0.96      0.97       366\n",
      "           2       0.98      0.98      0.98       343\n",
      "           3       1.00      0.99      0.99        86\n",
      "\n",
      "    accuracy                           0.98      1197\n",
      "   macro avg       0.98      0.98      0.98      1197\n",
      "weighted avg       0.98      0.98      0.98      1197\n",
      "\n"
     ]
    }
   ],
   "source": [
    "import pandas as pd\n",
    "import seaborn as sns\n",
    "import matplotlib.pyplot as plt\n",
    "from sklearn.metrics import confusion_matrix, classification_report\n",
    "\n",
    "def print_confusion_matrix(y_true, y_pred, report=True):\n",
    "    labels = sorted(list(set(y_true)))\n",
    "    cmx_data = confusion_matrix(y_true, y_pred, labels=labels)\n",
    "    \n",
    "    df_cmx = pd.DataFrame(cmx_data, index=labels, columns=labels)\n",
    " \n",
    "    fig, ax = plt.subplots(figsize=(7, 6))\n",
    "    sns.heatmap(df_cmx, annot=True, fmt='g' ,square=False)\n",
    "    ax.set_ylim(len(set(y_true)), 0)\n",
    "    plt.show()\n",
    "    \n",
    "    if report:\n",
    "        print('Classification Report')\n",
    "        print(classification_report(y_test, y_pred))\n",
    "\n",
    "Y_pred = model.predict(X_test)\n",
    "y_pred = np.argmax(Y_pred, axis=1)\n",
    "\n",
    "print_confusion_matrix(y_test, y_pred)"
   ]
  },
  {
   "cell_type": "markdown",
   "metadata": {
    "id": "FNP6aqzc9hE5"
   },
   "source": [
    "# Convert to model for Tensorflow-Lite"
   ]
  },
  {
   "cell_type": "code",
   "execution_count": 49,
   "metadata": {
    "id": "ODjnYyld9hE6"
   },
   "outputs": [
    {
     "name": "stderr",
     "output_type": "stream",
     "text": [
      "C:\\Users\\jwchi\\anaconda3\\lib\\site-packages\\keras\\src\\engine\\training.py:3103: UserWarning: You are saving your model as an HDF5 file via `model.save()`. This file format is considered legacy. We recommend using instead the native Keras format, e.g. `model.save('my_model.keras')`.\n",
      "  saving_api.save_model(\n"
     ]
    }
   ],
   "source": [
    "# Save as a model dedicated to inference\n",
    "model.save(model_save_path, include_optimizer=False)"
   ]
  },
  {
   "cell_type": "code",
   "execution_count": 50,
   "metadata": {
    "colab": {
     "base_uri": "https://localhost:8080/"
    },
    "id": "zRfuK8Y59hE6",
    "outputId": "a4ca585c-b5d5-4244-8291-8674063209bb"
   },
   "outputs": [
    {
     "name": "stdout",
     "output_type": "stream",
     "text": [
      "INFO:tensorflow:Assets written to: C:\\Users\\jwchi\\AppData\\Local\\Temp\\tmpokwx0xr2\\assets\n"
     ]
    },
    {
     "name": "stderr",
     "output_type": "stream",
     "text": [
      "INFO:tensorflow:Assets written to: C:\\Users\\jwchi\\AppData\\Local\\Temp\\tmpokwx0xr2\\assets\n"
     ]
    },
    {
     "data": {
      "text/plain": [
       "6544"
      ]
     },
     "execution_count": 50,
     "metadata": {},
     "output_type": "execute_result"
    }
   ],
   "source": [
    "# Transform model (quantization)\n",
    "\n",
    "converter = tf.lite.TFLiteConverter.from_keras_model(model)\n",
    "converter.optimizations = [tf.lite.Optimize.DEFAULT]\n",
    "tflite_quantized_model = converter.convert()\n",
    "\n",
    "open(tflite_save_path, 'wb').write(tflite_quantized_model)"
   ]
  },
  {
   "cell_type": "markdown",
   "metadata": {
    "id": "CHBPBXdx9hE6"
   },
   "source": [
    "# Inference test"
   ]
  },
  {
   "cell_type": "code",
   "execution_count": 51,
   "metadata": {
    "id": "mGAzLocO9hE7"
   },
   "outputs": [],
   "source": [
    "interpreter = tf.lite.Interpreter(model_path=tflite_save_path)\n",
    "interpreter.allocate_tensors()"
   ]
  },
  {
   "cell_type": "code",
   "execution_count": 52,
   "metadata": {
    "id": "oQuDK8YS9hE7"
   },
   "outputs": [],
   "source": [
    "# Get I / O tensor\n",
    "input_details = interpreter.get_input_details()\n",
    "output_details = interpreter.get_output_details()"
   ]
  },
  {
   "cell_type": "code",
   "execution_count": 53,
   "metadata": {
    "id": "2_ixAf_l9hE7"
   },
   "outputs": [],
   "source": [
    "interpreter.set_tensor(input_details[0]['index'], np.array([X_test[0]]))"
   ]
  },
  {
   "cell_type": "code",
   "execution_count": 54,
   "metadata": {
    "colab": {
     "base_uri": "https://localhost:8080/"
    },
    "id": "s4FoAnuc9hE7",
    "outputId": "91f18257-8d8b-4ef3-c558-e9b5f94fabbf",
    "scrolled": true
   },
   "outputs": [
    {
     "name": "stdout",
     "output_type": "stream",
     "text": [
      "CPU times: total: 0 ns\n",
      "Wall time: 0 ns\n"
     ]
    }
   ],
   "source": [
    "%%time\n",
    "# Inference implementation\n",
    "interpreter.invoke()\n",
    "tflite_results = interpreter.get_tensor(output_details[0]['index'])"
   ]
  },
  {
   "cell_type": "code",
   "execution_count": 55,
   "metadata": {
    "colab": {
     "base_uri": "https://localhost:8080/"
    },
    "id": "vONjp19J9hE8",
    "outputId": "77205e24-fd00-42c4-f7b6-e06e527c2cba"
   },
   "outputs": [
    {
     "name": "stdout",
     "output_type": "stream",
     "text": [
      "[9.8515958e-01 1.4564331e-02 2.7436198e-04 1.7684636e-06]\n",
      "0\n"
     ]
    }
   ],
   "source": [
    "print(np.squeeze(tflite_results))\n",
    "print(np.argmax(np.squeeze(tflite_results)))"
   ]
  },
  {
   "cell_type": "code",
   "execution_count": null,
   "metadata": {},
   "outputs": [],
   "source": []
  }
 ],
 "metadata": {
  "accelerator": "GPU",
  "colab": {
   "collapsed_sections": [],
   "name": "keypoint_classification_EN.ipynb",
   "provenance": [],
   "toc_visible": true
  },
  "kernelspec": {
   "display_name": "Python 3 (ipykernel)",
   "language": "python",
   "name": "python3"
  },
  "language_info": {
   "codemirror_mode": {
    "name": "ipython",
    "version": 3
   },
   "file_extension": ".py",
   "mimetype": "text/x-python",
   "name": "python",
   "nbconvert_exporter": "python",
   "pygments_lexer": "ipython3",
   "version": "3.10.9"
  }
 },
 "nbformat": 4,
 "nbformat_minor": 4
}
